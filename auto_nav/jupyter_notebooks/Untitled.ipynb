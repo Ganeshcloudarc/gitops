{
 "cells": [
  {
   "cell_type": "code",
   "execution_count": 2,
   "metadata": {},
   "outputs": [
    {
     "ename": "ImportError",
     "evalue": "No module named cv2",
     "output_type": "error",
     "traceback": [
      "\u001b[0;31m---------------------------------------------------------------------------\u001b[0m",
      "\u001b[0;31mImportError\u001b[0m                               Traceback (most recent call last)",
      "\u001b[0;32m<ipython-input-2-11425887204c>\u001b[0m in \u001b[0;36m<module>\u001b[0;34m()\u001b[0m\n\u001b[0;32m----> 1\u001b[0;31m \u001b[0;32mimport\u001b[0m \u001b[0mcv2\u001b[0m\u001b[0;34m\u001b[0m\u001b[0m\n\u001b[0m\u001b[1;32m      2\u001b[0m \u001b[0;32mimport\u001b[0m \u001b[0mnumpy\u001b[0m \u001b[0;32mas\u001b[0m \u001b[0mnp\u001b[0m\u001b[0;34m\u001b[0m\u001b[0m\n\u001b[1;32m      3\u001b[0m \u001b[0;32mimport\u001b[0m \u001b[0mmatplotlib\u001b[0m\u001b[0;34m.\u001b[0m\u001b[0mpyplot\u001b[0m \u001b[0;32mas\u001b[0m \u001b[0mplt\u001b[0m\u001b[0;34m\u001b[0m\u001b[0m\n\u001b[1;32m      4\u001b[0m \u001b[0;32mimport\u001b[0m \u001b[0mmatplotlib\u001b[0m\u001b[0;34m.\u001b[0m\u001b[0mlines\u001b[0m \u001b[0;32mas\u001b[0m \u001b[0mmlines\u001b[0m\u001b[0;34m\u001b[0m\u001b[0m\n\u001b[1;32m      5\u001b[0m \u001b[0;34m\u001b[0m\u001b[0m\n",
      "\u001b[0;31mImportError\u001b[0m: No module named cv2"
     ]
    }
   ],
   "source": [
    "import cv2\n",
    "import numpy as np\n",
    "import matplotlib.pyplot as plt\n",
    "import matplotlib.lines as mlines\n",
    "\n",
    "\n",
    "def line_detection_non_vectorized(image, edge_image, num_rhos=180, num_thetas=180, t_count=220):\n",
    "  edge_height, edge_width = edge_image.shape[:2]\n",
    "  edge_height_half, edge_width_half = edge_height / 2, edge_width / 2\n",
    "  #\n",
    "  d = np.sqrt(np.square(edge_height) + np.square(edge_width))\n",
    "  dtheta = 180 / num_thetas\n",
    "  drho = (2 * d) / num_rhos\n",
    "  #\n",
    "  thetas = np.arange(0, 180, step=dtheta)\n",
    "  rhos = np.arange(-d, d, step=drho)\n",
    "  #\n",
    "  cos_thetas = np.cos(np.deg2rad(thetas))\n",
    "  sin_thetas = np.sin(np.deg2rad(thetas))\n",
    "  #\n",
    "  accumulator = np.zeros((len(rhos), len(rhos)))\n",
    "  #\n",
    "  figure = plt.figure(figsize=(12, 12))\n",
    "  subplot1 = figure.add_subplot(1, 4, 1)\n",
    "  subplot1.imshow(image)\n",
    "  subplot2 = figure.add_subplot(1, 4, 2)\n",
    "  subplot2.imshow(edge_image, cmap=\"gray\")\n",
    "  subplot3 = figure.add_subplot(1, 4, 3)\n",
    "  subplot3.set_facecolor((0, 0, 0))\n",
    "  subplot4 = figure.add_subplot(1, 4, 4)\n",
    "  subplot4.imshow(image)\n",
    "  #\n",
    "  for y in range(edge_height):\n",
    "    for x in range(edge_width):\n",
    "      if edge_image[y][x] != 0:\n",
    "        edge_point = [y - edge_height_half, x - edge_width_half]\n",
    "        ys, xs = [], []\n",
    "        for theta_idx in range(len(thetas)):\n",
    "          rho = (edge_point[1] * cos_thetas[theta_idx]) + (edge_point[0] * sin_thetas[theta_idx])\n",
    "          theta = thetas[theta_idx]\n",
    "          rho_idx = np.argmin(np.abs(rhos - rho))\n",
    "          accumulator[rho_idx][theta_idx] += 1\n",
    "          ys.append(rho)\n",
    "          xs.append(theta)\n",
    "        subplot3.plot(xs, ys, color=\"white\", alpha=0.05)\n",
    "\n",
    "  for y in range(accumulator.shape[0]):\n",
    "    for x in range(accumulator.shape[1]):\n",
    "      if accumulator[y][x] > t_count:\n",
    "        rho = rhos[y]\n",
    "        theta = thetas[x]\n",
    "        a = np.cos(np.deg2rad(theta))\n",
    "        b = np.sin(np.deg2rad(theta))\n",
    "        x0 = (a * rho) + edge_width_half\n",
    "        y0 = (b * rho) + edge_height_half\n",
    "        x1 = int(x0 + 1000 * (-b))\n",
    "        y1 = int(y0 + 1000 * (a))\n",
    "        x2 = int(x0 - 1000 * (-b))\n",
    "        y2 = int(y0 - 1000 * (a))\n",
    "        subplot3.plot([theta], [rho], marker='o', color=\"yellow\")\n",
    "        subplot4.add_line(mlines.Line2D([x1, x2], [y1, y2]))\n",
    "\n",
    "  subplot3.invert_yaxis()\n",
    "  subplot3.invert_xaxis()\n",
    "\n",
    "  subplot1.title.set_text(\"Original Image\")\n",
    "  subplot2.title.set_text(\"Edge Image\")\n",
    "  subplot3.title.set_text(\"Hough Space\")\n",
    "  subplot4.title.set_text(\"Detected Lines\")\n",
    "  plt.show()\n",
    "  return accumulator, rhos, thetas\n",
    "\n",
    "\n",
    "if __name__ == \"__main__\":\n",
    "  for i in range(3):\n",
    "#     image = cv2.imread(f\"sample-{i+1}.png\")\n",
    "    edge_image = cv2.cvtColor(image, cv2.COLOR_BGR2GRAY)\n",
    "    edge_image = cv2.GaussianBlur(edge_image, (3, 3), 1)\n",
    "    edge_image = cv2.Canny(edge_image, 100, 200)\n",
    "    edge_image = cv2.dilate(\n",
    "        edge_image,\n",
    "        cv2.getStructuringElement(cv2.MORPH_RECT, (5, 5)),\n",
    "        iterations=1\n",
    "    )\n",
    "    edge_image = cv2.erode(\n",
    "        edge_image,\n",
    "        cv2.getStructuringElement(cv2.MORPH_RECT, (5, 5)),\n",
    "        iterations=1\n",
    "    )\n",
    "    line_detection_non_vectorized(image, edge_image)\n"
   ]
  },
  {
   "cell_type": "code",
   "execution_count": 12,
   "metadata": {},
   "outputs": [
    {
     "ename": "NameError",
     "evalue": "name 'math' is not defined",
     "output_type": "error",
     "traceback": [
      "\u001b[0;31m---------------------------------------------------------------------------\u001b[0m",
      "\u001b[0;31mNameError\u001b[0m                                 Traceback (most recent call last)",
      "\u001b[0;32m<ipython-input-12-4240c4772f2c>\u001b[0m in \u001b[0;36m<module>\u001b[0;34m()\u001b[0m\n\u001b[1;32m      5\u001b[0m \u001b[0mthetas\u001b[0m \u001b[0;34m=\u001b[0m \u001b[0mnp\u001b[0m\u001b[0;34m.\u001b[0m\u001b[0mdeg2rad\u001b[0m\u001b[0;34m(\u001b[0m\u001b[0mnp\u001b[0m\u001b[0;34m.\u001b[0m\u001b[0marange\u001b[0m\u001b[0;34m(\u001b[0m\u001b[0;34m-\u001b[0m\u001b[0;36m90.0\u001b[0m\u001b[0;34m,\u001b[0m \u001b[0;36m90.0\u001b[0m\u001b[0;34m,\u001b[0m \u001b[0mangle_step\u001b[0m\u001b[0;34m)\u001b[0m\u001b[0;34m)\u001b[0m\u001b[0;34m\u001b[0m\u001b[0m\n\u001b[1;32m      6\u001b[0m \u001b[0;31m# width, height = img.shape\u001b[0m\u001b[0;34m\u001b[0m\u001b[0;34m\u001b[0m\u001b[0m\n\u001b[0;32m----> 7\u001b[0;31m \u001b[0mdiag_len\u001b[0m \u001b[0;34m=\u001b[0m \u001b[0mint\u001b[0m\u001b[0;34m(\u001b[0m\u001b[0mround\u001b[0m\u001b[0;34m(\u001b[0m\u001b[0mmath\u001b[0m\u001b[0;34m.\u001b[0m\u001b[0msqrt\u001b[0m\u001b[0;34m(\u001b[0m\u001b[0mwidth\u001b[0m \u001b[0;34m*\u001b[0m \u001b[0mwidth\u001b[0m \u001b[0;34m+\u001b[0m \u001b[0mheight\u001b[0m \u001b[0;34m*\u001b[0m \u001b[0mheight\u001b[0m\u001b[0;34m)\u001b[0m\u001b[0;34m)\u001b[0m\u001b[0;34m)\u001b[0m\u001b[0;34m\u001b[0m\u001b[0m\n\u001b[0m\u001b[1;32m      8\u001b[0m \u001b[0mrhos\u001b[0m \u001b[0;34m=\u001b[0m \u001b[0mnp\u001b[0m\u001b[0;34m.\u001b[0m\u001b[0mlinspace\u001b[0m\u001b[0;34m(\u001b[0m\u001b[0;34m-\u001b[0m\u001b[0mdiag_len\u001b[0m\u001b[0;34m,\u001b[0m \u001b[0mdiag_len\u001b[0m\u001b[0;34m,\u001b[0m \u001b[0mdiag_len\u001b[0m \u001b[0;34m*\u001b[0m \u001b[0;36m2\u001b[0m\u001b[0;34m)\u001b[0m\u001b[0;34m\u001b[0m\u001b[0m\n",
      "\u001b[0;31mNameError\u001b[0m: name 'math' is not defined"
     ]
    }
   ],
   "source": [
    "# Rho and Theta range \n",
    "\n",
    "angle_step = 1\n",
    "\n",
    "thetas = np.deg2rad(np.arange(-90.0, 90.0, angle_step))\n",
    "# width, height = img.shape\n",
    "diag_len = int(round(math.sqrt(width * width + height * height)))\n",
    "rhos = np.linspace(-diag_len, diag_len, diag_len * 2)"
   ]
  },
  {
   "cell_type": "code",
   "execution_count": 13,
   "metadata": {},
   "outputs": [],
   "source": [
    "\n",
    "angle_step = 1\n",
    "thetas = np.deg2rad(np.arange(-90.0, 90.0, angle_step)) "
   ]
  },
  {
   "cell_type": "code",
   "execution_count": 14,
   "metadata": {
    "scrolled": true
   },
   "outputs": [
    {
     "name": "stdout",
     "output_type": "stream",
     "text": [
      "[-10.          -9.7979798   -9.5959596   -9.39393939  -9.19191919\n",
      "  -8.98989899  -8.78787879  -8.58585859  -8.38383838  -8.18181818\n",
      "  -7.97979798  -7.77777778  -7.57575758  -7.37373737  -7.17171717\n",
      "  -6.96969697  -6.76767677  -6.56565657  -6.36363636  -6.16161616\n",
      "  -5.95959596  -5.75757576  -5.55555556  -5.35353535  -5.15151515\n",
      "  -4.94949495  -4.74747475  -4.54545455  -4.34343434  -4.14141414\n",
      "  -3.93939394  -3.73737374  -3.53535354  -3.33333333  -3.13131313\n",
      "  -2.92929293  -2.72727273  -2.52525253  -2.32323232  -2.12121212\n",
      "  -1.91919192  -1.71717172  -1.51515152  -1.31313131  -1.11111111\n",
      "  -0.90909091  -0.70707071  -0.50505051  -0.3030303   -0.1010101\n",
      "   0.1010101    0.3030303    0.50505051   0.70707071   0.90909091\n",
      "   1.11111111   1.31313131   1.51515152   1.71717172   1.91919192\n",
      "   2.12121212   2.32323232   2.52525253   2.72727273   2.92929293\n",
      "   3.13131313   3.33333333   3.53535354   3.73737374   3.93939394\n",
      "   4.14141414   4.34343434   4.54545455   4.74747475   4.94949495\n",
      "   5.15151515   5.35353535   5.55555556   5.75757576   5.95959596\n",
      "   6.16161616   6.36363636   6.56565657   6.76767677   6.96969697\n",
      "   7.17171717   7.37373737   7.57575758   7.77777778   7.97979798\n",
      "   8.18181818   8.38383838   8.58585859   8.78787879   8.98989899\n",
      "   9.19191919   9.39393939   9.5959596    9.7979798   10.        ]\n"
     ]
    }
   ],
   "source": [
    "diag_len = 10\n",
    "rhos = np.linspace(-diag_len, diag_len, diag_len**2 )\n",
    "print(rhos)"
   ]
  },
  {
   "cell_type": "code",
   "execution_count": 15,
   "metadata": {},
   "outputs": [],
   "source": [
    "# Hough accumulator array of theta vs rho\n",
    "num_thetas = len(thetas)\n",
    "accumulator = np.zeros((2 * diag_len, num_thetas), dtype=np.uint8)"
   ]
  },
  {
   "cell_type": "code",
   "execution_count": 16,
   "metadata": {},
   "outputs": [
    {
     "data": {
      "text/plain": [
       "array([[0, 0, 0, ..., 0, 0, 0],\n",
       "       [0, 0, 0, ..., 0, 0, 0],\n",
       "       [0, 0, 0, ..., 0, 0, 0],\n",
       "       ...,\n",
       "       [0, 0, 0, ..., 0, 0, 0],\n",
       "       [0, 0, 0, ..., 0, 0, 0],\n",
       "       [0, 0, 0, ..., 0, 0, 0]], dtype=uint8)"
      ]
     },
     "execution_count": 16,
     "metadata": {},
     "output_type": "execute_result"
    }
   ],
   "source": [
    "accumulator"
   ]
  },
  {
   "cell_type": "code",
   "execution_count": 2,
   "metadata": {},
   "outputs": [],
   "source": [
    "import numpy as np\n",
    "import matplotlib.pyplot as plt"
   ]
  },
  {
   "cell_type": "code",
   "execution_count": 3,
   "metadata": {},
   "outputs": [
    {
     "name": "stdout",
     "output_type": "stream",
     "text": [
      "[[1 1]\n",
      " [2 2]\n",
      " [3 3]]\n"
     ]
    }
   ],
   "source": [
    "# Theoritical\n",
    "\n",
    "\n",
    "angle_step = 1\n",
    "thetas = np.deg2rad(np.arange(-90.0, 90.0, angle_step)) \n",
    "\n",
    "diag_len = 100\n",
    "rhos = np.linspace(-diag_len, diag_len, diag_len**2 )\n",
    "test_point  = np.array([[1,1],[2,2], [3,3]])\n",
    "print(test_point)\n",
    "cos_thetas = np.cos(np.deg2rad(thetas))\n",
    "sin_thetas = np.sin(np.deg2rad(thetas))\n",
    "accumulator = np.zeros((len(rhos), len(rhos)))\n",
    "\n",
    "\n",
    "for i in range(len(test_point)):\n",
    "    \n",
    "    for theta_idx in range(len(thetas)):\n",
    "          rho = (test_point[i][0] * cos_thetas[theta_idx]) + (test_point[i][1] * sin_thetas[theta_idx])\n",
    "          theta = thetas[theta_idx]\n",
    "          rho_idx = np.argmin(np.abs(rhos - rho))\n",
    "          accumulator[rho_idx][theta_idx] += 1\n",
    "        \n",
    "# plt.plot(accumulator)\n",
    "# plt.shoe()\n"
   ]
  },
  {
   "cell_type": "code",
   "execution_count": 5,
   "metadata": {},
   "outputs": [
    {
     "ename": "NameError",
     "evalue": "name 'y' is not defined",
     "output_type": "error",
     "traceback": [
      "\u001b[0;31m---------------------------------------------------------------------------\u001b[0m",
      "\u001b[0;31mNameError\u001b[0m                                 Traceback (most recent call last)",
      "\u001b[0;32m<ipython-input-5-1f11dd91c0ae>\u001b[0m in \u001b[0;36m<module>\u001b[0;34m()\u001b[0m\n\u001b[0;32m----> 1\u001b[0;31m \u001b[0;32mif\u001b[0m \u001b[0maccumulator\u001b[0m\u001b[0;34m[\u001b[0m\u001b[0my\u001b[0m\u001b[0;34m]\u001b[0m\u001b[0;34m[\u001b[0m\u001b[0mx\u001b[0m\u001b[0;34m]\u001b[0m \u001b[0;34m>\u001b[0m \u001b[0mt_count\u001b[0m\u001b[0;34m:\u001b[0m\u001b[0;34m\u001b[0m\u001b[0m\n\u001b[0m\u001b[1;32m      2\u001b[0m     \u001b[0;32mprint\u001b[0m\u001b[0;34m(\u001b[0m\u001b[0;34m\"cool\"\u001b[0m\u001b[0;34m)\u001b[0m\u001b[0;34m\u001b[0m\u001b[0m\n",
      "\u001b[0;31mNameError\u001b[0m: name 'y' is not defined"
     ]
    }
   ],
   "source": [
    "if accumulator[y][x] > t_count:\n",
    "    print(\"cool\")"
   ]
  }
 ],
 "metadata": {
  "kernelspec": {
   "display_name": "Python 3 (ipykernel)",
   "language": "python",
   "name": "python3"
  },
  "language_info": {
   "codemirror_mode": {
    "name": "ipython",
    "version": 2
   },
   "file_extension": ".py",
   "mimetype": "text/x-python",
   "name": "python",
   "nbconvert_exporter": "python",
   "pygments_lexer": "ipython2",
   "version": "2.7.18"
  }
 },
 "nbformat": 4,
 "nbformat_minor": 2
}
