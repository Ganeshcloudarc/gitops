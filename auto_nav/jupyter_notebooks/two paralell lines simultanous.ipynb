{
 "cells": [
  {
   "cell_type": "code",
   "execution_count": 1,
   "metadata": {},
   "outputs": [],
   "source": [
    "import random\n",
    "import matplotlib.pyplot as plt\n",
    "import math\n",
    "import numpy as np\n",
    "from math import sin, cos"
   ]
  },
  {
   "cell_type": "code",
   "execution_count": 5,
   "metadata": {},
   "outputs": [
    {
     "data": {
      "text/plain": [
       "(7, 5)"
      ]
     },
     "execution_count": 5,
     "metadata": {},
     "output_type": "execute_result"
    }
   ],
   "source": [
    "# utility methods\n",
    "def ganerate_random_pairs(len_of_points):\n",
    "    ind1 = random.randint(0,len_of_points-1)\n",
    "    ind2 = random.randint(0,len_of_points-1)\n",
    "    while ind1 == ind2:\n",
    "        ind2 = random.randint(0,len_of_points-1)\n",
    "    return (ind1, ind2)\n",
    "\n",
    "ganerate_random_pairs(10)"
   ]
  },
  {
   "cell_type": "code",
   "execution_count": 6,
   "metadata": {},
   "outputs": [
    {
     "data": {
      "text/plain": [
       "1.0"
      ]
     },
     "execution_count": 6,
     "metadata": {},
     "output_type": "execute_result"
    }
   ],
   "source": [
    "math.sin(np.pi/2)\n",
    "# print(math.degress(np.pi))"
   ]
  },
  {
   "cell_type": "code",
   "execution_count": 7,
   "metadata": {},
   "outputs": [],
   "source": [
    "def ransac_paralel_lines(left_points, right_points, max_iter= 100, inlier_th=50, tolerance=1):\n",
    "    maximum_inlierscount = 0\n",
    "    off_set_dis = 5\n",
    "    coefficents  = []\n",
    "    max_iter = 1\n",
    "    for iterator in range(0,max_iter):\n",
    "        ind1,ind2 = ganerate_random_pairs(len(left_points))\n",
    "        A = left_points[ind1][1] - left_points[ind2][1]\n",
    "        B = left_points[ind2][0] - left_points[ind1][0]\n",
    "        C = left_points[ind1][0] * left_points[ind2][1] - left_points[ind2][0] * left_points[ind1][1]\n",
    "#         print(A,B,C)\n",
    "#         M = -A/B\n",
    "        theta = math.atan2(-A,B)\n",
    "        unit_vect = np.array([math.cos(theta), math.sin(theta)])\n",
    "        unit_vect_pp = np.array([unit_vect[1],unit_vect[0]])\n",
    "        rot = np.array([[cos(np.pi/2), -sin(np.pi/2)], [sin(np.pi/2), cos(np.pi/2)]])\n",
    "        dot_pro1 = np.dot(rot,unit_vect)*off_set_dis\n",
    "        dot_pro2 = np.dot(rot,unit_vect)*off_set_dis\n",
    "        \n",
    "#         perp_point_x = dot_pro1[0] + left_points[ind1][0]\n",
    "#         perp_point_y = dot_pro1[1] + left_points[ind1][1]\n",
    "        perp_point_x1 = dot_pro2[0] + left_points[ind1][0]\n",
    "        perp_point_y2 = dot_pro2[1] + left_points[ind1][1]\n",
    "        \n",
    "        plt.scatter(perp_point_x1, perp_point_y2, color=\"red\",label=\"perp point\")\n",
    "        plt.plot([left_points[ind1][0],left_points[ind2][0]], \n",
    "                 [left_points[ind1][1],left_points[ind2][1]], color=\"red\",label=\"lene\")\n",
    "        plt.xlim(0,50)\n",
    "        plt.ylim(0,50)\n",
    "        plt.show()\n",
    "        \n",
    "        \n",
    "        \n",
    "        \n",
    "    \n",
    "\n",
    "        inlierscount = 0"
   ]
  },
  {
   "cell_type": "code",
   "execution_count": 8,
   "metadata": {},
   "outputs": [
    {
     "data": {
      "image/png": "[encoded data removed]",
      "text/plain": [
       "<Figure size 432x288 with 1 Axes>"
      ]
     },
     "metadata": {
      "needs_background": "light"
     },
     "output_type": "display_data"
    }
   ],
   "source": [
    "inliersCount = 20\n",
    "inliersTolerance= 2\n",
    "\n",
    "left_points = [( 3+ random.random()*inliersTolerance, \n",
    "            (2*i + random.random()*inliersTolerance))\n",
    "           for i in range(0, inliersCount)]\n",
    "\n",
    "right_points = [( 10+ random.random()*inliersTolerance, \n",
    "            (2*i + random.random()*inliersTolerance))\n",
    "           for i in range(0, inliersCount)]\n",
    "allpoints = left_points+right_points\n",
    "# ransac_paralel_lines(left_points,right_points)\n",
    "for point in allpoints:\n",
    "    plt.scatter(point[0], point[1], color=\"green\")\n",
    "plt.show()\n",
    "\n"
   ]
  },
  {
   "cell_type": "code",
   "execution_count": 9,
   "metadata": {},
   "outputs": [
    {
     "ename": "NameError",
     "evalue": "name 'ransac_fit' is not defined",
     "output_type": "error",
     "traceback": [
      "\u001b[0;31m---------------------------------------------------------------------------\u001b[0m",
      "\u001b[0;31mNameError\u001b[0m                                 Traceback (most recent call last)",
      "\u001b[0;32m<ipython-input-9-44cc1eb7aa31>\u001b[0m in \u001b[0;36m<module>\u001b[0;34m()\u001b[0m\n\u001b[1;32m     12\u001b[0m \u001b[0;32mfor\u001b[0m \u001b[0mpoint\u001b[0m \u001b[0;32min\u001b[0m \u001b[0mleft_points\u001b[0m\u001b[0;34m+\u001b[0m\u001b[0mright_points\u001b[0m\u001b[0;34m:\u001b[0m\u001b[0;34m\u001b[0m\u001b[0m\n\u001b[1;32m     13\u001b[0m     \u001b[0mplt\u001b[0m\u001b[0;34m.\u001b[0m\u001b[0mscatter\u001b[0m\u001b[0;34m(\u001b[0m\u001b[0mpoint\u001b[0m\u001b[0;34m[\u001b[0m\u001b[0;36m0\u001b[0m\u001b[0;34m]\u001b[0m\u001b[0;34m,\u001b[0m \u001b[0mpoint\u001b[0m\u001b[0;34m[\u001b[0m\u001b[0;36m1\u001b[0m\u001b[0;34m]\u001b[0m\u001b[0;34m,\u001b[0m \u001b[0mcolor\u001b[0m\u001b[0;34m=\u001b[0m\u001b[0;34m\"green\"\u001b[0m\u001b[0;34m)\u001b[0m\u001b[0;34m\u001b[0m\u001b[0m\n\u001b[0;32m---> 14\u001b[0;31m \u001b[0mcoff\u001b[0m\u001b[0;34m,\u001b[0m\u001b[0mmax_inliers\u001b[0m \u001b[0;34m=\u001b[0m \u001b[0mransac_fit\u001b[0m\u001b[0;34m(\u001b[0m\u001b[0mleft_points\u001b[0m\u001b[0;34m,\u001b[0m \u001b[0mnumber_of_iters\u001b[0m\u001b[0;34m=\u001b[0m\u001b[0;36m100\u001b[0m\u001b[0;34m)\u001b[0m\u001b[0;34m\u001b[0m\u001b[0m\n\u001b[0m\u001b[1;32m     15\u001b[0m \u001b[0mA\u001b[0m\u001b[0;34m,\u001b[0m\u001b[0mB\u001b[0m\u001b[0;34m,\u001b[0m\u001b[0mC\u001b[0m \u001b[0;34m=\u001b[0m \u001b[0mcoff\u001b[0m\u001b[0;34m[\u001b[0m\u001b[0;36m0\u001b[0m\u001b[0;34m]\u001b[0m\u001b[0;34m,\u001b[0m \u001b[0mcoff\u001b[0m\u001b[0;34m[\u001b[0m\u001b[0;36m1\u001b[0m\u001b[0;34m]\u001b[0m\u001b[0;34m,\u001b[0m\u001b[0mcoff\u001b[0m\u001b[0;34m[\u001b[0m\u001b[0;36m2\u001b[0m\u001b[0;34m]\u001b[0m\u001b[0;34m\u001b[0m\u001b[0m\n\u001b[1;32m     16\u001b[0m \u001b[0;34m\u001b[0m\u001b[0m\n",
      "\u001b[0;31mNameError\u001b[0m: name 'ransac_fit' is not defined"
     ]
    },
    {
     "data": {
      "image/png": "[encoded data removed]",
      "text/plain": [
       "<Figure size 432x288 with 1 Axes>"
      ]
     },
     "metadata": {
      "needs_background": "light"
     },
     "output_type": "display_data"
    }
   ],
   "source": [
    "inliersCount = 20\n",
    "inliersTolerance= 2\n",
    "\n",
    "left_points = [( 3*i+ random.random()*inliersTolerance, \n",
    "            (2*i + random.random()*inliersTolerance))\n",
    "           for i in range(0, inliersCount)]\n",
    "\n",
    "right_points = [( 10+ random.random()*inliersTolerance, \n",
    "            (2*i + random.random()*inliersTolerance))\n",
    "           for i in range(0, inliersCount)]\n",
    "allpoints = left_points+right_points\n",
    "for point in left_points+right_points:\n",
    "    plt.scatter(point[0], point[1], color=\"green\")\n",
    "coff,max_inliers = ransac_fit(left_points, number_of_iters=100)\n",
    "A,B,C = coff[0], coff[1],coff[2]\n",
    "\n",
    "allxvalues = [point[0] for point in left_points]\n",
    "xvalues = [min(allxvalues), max(allxvalues)]\n",
    "print(xvalues)\n",
    "yvalues_ransac = [(-C-A*xvalues[0])/B, (-C-A*xvalues[1])/B]\n",
    "print(yvalues_ransac)\n",
    "off_set = 0.5\n",
    "# ransac_off_set = [(-C-A*xvalues[0])/B+off_set, (-C-A*xvalues[1])/B+off_set]\n",
    "left_off_set_line_ransac = [(-C-A*xvalues[0])/B + 10, (-C-A*xvalues[1])/B+10]\n",
    "\n",
    "c2 = -off_set*math.sqrt(1+(-B/A)) - C\n",
    "print(\"c2,C\",c2,C)\n",
    "left_off_set_line_ransac_prop = [(-c2-A*xvalues[0])/B + 10, (-c2-A*xvalues[1])/B+10]\n",
    "\n",
    "plt.plot(xvalues, yvalues_ransac, color=\"red\",label=\"ransac\")\n",
    "plt.plot(xvalues, left_off_set_line_ransac, color=\"blue\",label=\"paralul ransca\")\n",
    "plt.plot(xvalues, left_off_set_line_ransac_prop, color=\"green\",label=\"left_off_set_line_ransac_prop ransca\")\n",
    "dis = abs(c2-C)/math.sqrt(A*A+B*B)\n",
    "print(\"dis\", dis)\n",
    "\n",
    "# A,B,C1,C2 = ransac_paralul_lines(left_points,right_points)\n",
    "\n",
    "# plt.xlim(0,20)\n",
    "# plt.ylim(0,50)\n",
    "plt.legend(loc=\"lower right\")\n",
    "plt.xlabel(\"X\")\n",
    "plt.ylabel(\"Y\")\n",
    "\n",
    "\n",
    "\n",
    "plt.plot()\n",
    "plt.show()"
   ]
  },
  {
   "cell_type": "code",
   "execution_count": 10,
   "metadata": {},
   "outputs": [
    {
     "data": {
      "text/plain": [
       "2.0"
      ]
     },
     "execution_count": 10,
     "metadata": {},
     "output_type": "execute_result"
    }
   ],
   "source": [
    "math.sqrt(4)"
   ]
  },
  {
   "cell_type": "code",
   "execution_count": 11,
   "metadata": {},
   "outputs": [],
   "source": [
    "# example ransac functiion\n",
    "\n",
    "def ransac_fit(all_points,number_of_iters = 100,\n",
    "              tolerance=1):\n",
    "    maximum_inlierscount = 0\n",
    "    coefficents  = []\n",
    "    for iteration in range(0,number_of_iters):\n",
    "        ind1,ind2 = ganerate_random_pairs(len(all_points))\n",
    "        \"\"\"\n",
    "        A=y1−y2\n",
    "        B=x2−x1\n",
    "        C=x1y2−x2y1\n",
    "        \"\"\"\n",
    "        A = all_points[ind1][1] - all_points[ind2][1]\n",
    "        B = all_points[ind2][0] - all_points[ind1][0]\n",
    "        C = all_points[ind1][0] * all_points[ind2][1] - all_points[ind2][0] * all_points[ind1][1]\n",
    "#         print(A,B,C)\n",
    "        inlierscount = 0\n",
    "        for i in range(0, len(all_points)):\n",
    "            dis = abs((A*all_points[i][0] + B*all_points[i][1]+C)/(pow(A*A + B*B, 0.5)))\n",
    "            if dis <= tolerance:\n",
    "                inlierscount += 1\n",
    "#         print(inlierscount)\n",
    "        if inlierscount > maximum_inlierscount:\n",
    "            coefficents = [A,B,C]\n",
    "            maximum_inlierscount = inlierscount\n",
    "    return coefficents, maximum_inlierscount\n",
    "            \n",
    "        \n",
    "    "
   ]
  },
  {
   "cell_type": "code",
   "execution_count": 12,
   "metadata": {},
   "outputs": [
    {
     "data": {
      "text/plain": [
       "[]"
      ]
     },
     "execution_count": 12,
     "metadata": {},
     "output_type": "execute_result"
    },
    {
     "data": {
      "image/png": "[encoded data removed]",
      "text/plain": [
       "<Figure size 432x288 with 1 Axes>"
      ]
     },
     "metadata": {
      "needs_background": "light"
     },
     "output_type": "display_data"
    }
   ],
   "source": [
    "# left_points = [( 3+ random.random()*inliersTolerance, \n",
    "#             (2*i + random.random()*inliersTolerance))\n",
    "#            for i in range(0, inliersCount,5)]\n",
    "\n",
    "left_points= []\n",
    "right_points = []\n",
    "num_of_trees = 5\n",
    "for i in range(0,num_of_trees):\n",
    "    for j in range(0,10,3):\n",
    "        x =  3+ random.random() \n",
    "        y = j*3 + random.random()\n",
    "        left_points.append([x,y])\n",
    "        \n",
    "for i in range(0,num_of_trees):\n",
    "    for j in range(0,10,3):\n",
    "        x =  10+ random.random() \n",
    "        y = j*3 + random.random()\n",
    "        right_points.append([x,y])\n",
    "        \n",
    "for point in left_points+right_points:\n",
    "    plt.scatter(point[0],point[1],color=\"red\",label=\"right point\")\n",
    "# plt.xlim(0,10)\n",
    "# plt.ylim(0,30)\n",
    "plt.plot()"
   ]
  },
  {
   "cell_type": "code",
   "execution_count": 13,
   "metadata": {},
   "outputs": [
    {
     "name": "stdout",
     "output_type": "stream",
     "text": [
      "([-27.67572479750689, -0.21443591611506418, 102.11081322861078, 295.84670191638963], 6, 4)\n"
     ]
    },
    {
     "data": {
      "image/png": "[encoded data removed]",
      "text/plain": [
       "<Figure size 432x288 with 1 Axes>"
      ]
     },
     "metadata": {
      "needs_background": "light"
     },
     "output_type": "display_data"
    }
   ],
   "source": [
    "# # with new computed c2 and c1\n",
    "\n",
    "# inliersCount = 30\n",
    "# inliersTolerance= 4\n",
    "\n",
    "# left_points = [( 3+ random.random()*inliersTolerance, \n",
    "#             (2*i + random.random()*inliersTolerance))\n",
    "#            for i in range(0, inliersCount,5)]\n",
    "\n",
    "# right_points = [( 10+ random.random()*inliersTolerance, \n",
    "#             (2*i + random.random()*inliersTolerance))\n",
    "#            for i in range(0, inliersCount)]\n",
    "# allpoints = []\n",
    "allpoints = left_points+right_points\n",
    "for point in left_points+right_points:\n",
    "    plt.scatter(point[0], point[1], color=\"green\")\n",
    "\n",
    "maximum_inlierscount_l = 0\n",
    "maximum_inlierscount_r = 0\n",
    "tolerance = 0.1\n",
    "off_set_dis = 5\n",
    "coefficents  = []\n",
    "max_iter = 100\n",
    "for iterator in range(0,max_iter):\n",
    "    ind1,ind2 = ganerate_random_pairs(len(left_points))\n",
    "    A = left_points[ind1][1] - left_points[ind2][1]\n",
    "    B = left_points[ind2][0] - left_points[ind1][0]\n",
    "    C = left_points[ind1][0] * left_points[ind2][1] - left_points[ind2][0] * left_points[ind1][1]\n",
    "    \n",
    "    \n",
    "    ind1_on_right,_ = ganerate_random_pairs(len(right_points))\n",
    "#     print(\"ind1_on_right\", ind1_on_right)\n",
    "#     print(\"points on left\", left_points[ind1],left_points[ind2])\n",
    "#     print(\"ind1_on_right\", right_points[ind1_on_right])\n",
    "    \n",
    "#     C2 = (-A/B)*right_points[ind1_on_right][0] \n",
    "    #C2 = -(A*p3[0] +B*p3[1])\n",
    "\n",
    "# \n",
    "#     C2 = right_points[ind1_on_right][1]-(-A/B)*right_points[ind1_on_right][0] \n",
    "\n",
    "    # main formula\n",
    "#     C2 = -(A*right_points[ind1_on_right][0] +B*right_points[ind1_on_right][1])\n",
    "    \n",
    "    # exp\n",
    "    \n",
    "    C2 = C + 7*math.sqrt(A*A+B*B)\n",
    "#     print(\"C2\", C2)\n",
    "#     print(\"A,B,C,C2\", A,B,C,C2)\n",
    "    \n",
    "    allxvalues = [point[0] for point in left_points]\n",
    "    allxvalues_r = [point[0] for point in right_points]\n",
    "\n",
    "    \n",
    "    xvalues = [min(allxvalues), max(allxvalues)]\n",
    "    xval_r = [min(allxvalues_r), max(allxvalues_r)]\n",
    "    \n",
    "    yvalues_line1 = [(-C-A*xvalues[0])/B, (-C-A*xvalues[1])/B]\n",
    "    yvalues_paralu_line = [(-C2-A*xval_r[0])/B, (-C2-A*xval_r[1])/B]\n",
    "#     print(yvalues_paralu_line)\n",
    "#     plt.plot(xvalues, yvalues_line1, color=\"red\",label=\"line1\")\n",
    "#     plt.plot(xval_r, yvalues_paralu_line, color=\"blue\",label=\"parallel line\")\n",
    "    \n",
    "#     plt.scatter([left_points[ind1][0], left_points[ind2][0]],[left_points[ind1][1],left_points[ind2][1]],color=\"red\")\n",
    "#     plt.scatter(right_points[ind1_on_right][0],left_points[ind1][1],\n",
    "#                color=\"red\",label=\"right point\")\n",
    "    \n",
    "#     print(\"point on line\",A*right_points[ind1_on_right][0]+B*right_points[ind1_on_right][1]+C2)\n",
    "    \n",
    "    \n",
    "    \n",
    "    inlierscount_left = 0\n",
    "    inlierscount_right = 0\n",
    "    for i in range(0, len(left_points)):\n",
    "        dis = abs((A*left_points[i][0] + B*left_points[i][1]+C)/(pow(A*A + B*B, 0.5)))\n",
    "        if dis <= tolerance:\n",
    "            inlierscount_left += 1\n",
    "#         print(inlierscount)\n",
    "    for i in range(0, len(right_points)):\n",
    "        dis = abs((A*right_points[i][0] + B*right_points[i][1]+C2)/(pow(A*A + B*B, 0.5)))\n",
    "        if dis <= tolerance:\n",
    "            inlierscount_right += 1\n",
    "#         print(inlierscount)\n",
    "    if inlierscount_left >  maximum_inlierscount_l and inlierscount_right > maximum_inlierscount_r:\n",
    "        maximum_inlierscount_l = inlierscount_left\n",
    "        maximum_inlierscount_r = inlierscount_right\n",
    "        coefficents = [A,B,C,C2]\n",
    " \n",
    "print(coefficents, maximum_inlierscount_l,maximum_inlierscount_r)\n",
    "\n",
    "A,B,C,C2=  coefficents[0], coefficents[1],coefficents[2],coefficents[3]\n",
    "allxvalues = [point[0] for point in left_points]\n",
    "allxvalues_r = [point[0] for point in right_points]    \n",
    "yvalues_line1 = [(-C-A*xvalues[0])/B, (-C-A*xvalues[1])/B]\n",
    "yvalues_paralu_line = [(-C2-A*xval_r[0])/B, (-C2-A*xval_r[1])/B]\n",
    "# print(yvalues_paralu_line)\n",
    "plt.plot(xvalues, yvalues_line1, color=\"red\",label=\"line1\")\n",
    "plt.plot(xval_r, yvalues_paralu_line, color=\"blue\",label=\"parallel line\")\n",
    "\n",
    "plt.xlim(0,15)\n",
    "plt.ylim(0,30)\n",
    "plt.show()\n"
   ]
  },
  {
   "cell_type": "code",
   "execution_count": 14,
   "metadata": {},
   "outputs": [
    {
     "data": {
      "text/plain": [
       "(-27.67572479750689,\n",
       " -0.21443591611506418,\n",
       " 102.11081322861078,\n",
       " 295.84670191638963)"
      ]
     },
     "execution_count": 14,
     "metadata": {},
     "output_type": "execute_result"
    }
   ],
   "source": [
    "A,B,C,C2"
   ]
  },
  {
   "cell_type": "code",
   "execution_count": 22,
   "metadata": {},
   "outputs": [
    {
     "name": "stdout",
     "output_type": "stream",
     "text": [
      "(-23.0, 15.3, 77.5)\n",
      "('slope', 1.5032679738562091)\n",
      "(353.74083695210595, 77.5)\n"
     ]
    },
    {
     "data": {
      "image/png": "[encoded data removed]",
      "text/plain": [
       "<Figure size 432x288 with 1 Axes>"
      ]
     },
     "metadata": {
      "needs_background": "light"
     },
     "output_type": "display_data"
    }
   ],
   "source": [
    "p1 = [4.7, 2.0]\n",
    "p2 = [20, 25]\n",
    "\n",
    "\"\"\"\n",
    "A=y1−y2\n",
    "B=x2−x1\n",
    "C=x1y2−x2y1\n",
    "\"\"\"\n",
    "A = p1[1] - p2[1]\n",
    "B = p2[0] - p1[0]\n",
    "C = p1[0]* p2[1] - p2[0]* p1[1]\n",
    "print(A,B,C)\n",
    "\n",
    "y1 = [(-C-A*p1[0])/B, (-C-A*p2[0])/B]\n",
    "\n",
    "p3 = [-10, 1]\n",
    "\"\"\"\n",
    "C2 = y1-mx\n",
    "\n",
    "\"\"\"\n",
    "# C2 = (p3[1]-(-A/B)*p3[0])/B\n",
    "print(\"slope\", (-A/B))\n",
    "print(C2,C)\n",
    "\n",
    "# C2 = -(A*p3[0] +B*p3[1])\n",
    "C2 = C - 10*math.sqrt(A*A+B*B)\n",
    "# C2 = C + 10*math.sqrt(A*A+B*B)\n",
    "\n",
    "\n",
    "# C2 = 254.31730963551578\n",
    "\n",
    "y2 = [(-C2-A*p1[0])/B, (-C2-A*p2[0])/B, (-C2-A*-10)/B]\n",
    "\n",
    "\n",
    "plt.plot([p1[0],p2[0]], y1, color=\"red\",label=\"line\")\n",
    "\n",
    "plt.plot([p1[0],p2[0],-10], y2, color=\"green\",label=\"paralell\")\n",
    "\n",
    "plt.scatter([p1[0],p2[0],p3[0]],[p1[1],p2[1],p3[1]])\n",
    "plt.legend(loc=\"upper right\")\n",
    "plt.xlabel(\"X\")\n",
    "plt.ylabel(\"Y\")\n",
    "\n",
    "plt.plot()\n",
    "plt.show()"
   ]
  },
  {
   "cell_type": "code",
   "execution_count": 16,
   "metadata": {},
   "outputs": [
    {
     "data": {
      "text/plain": [
       "46.55916304789406"
      ]
     },
     "execution_count": 16,
     "metadata": {},
     "output_type": "execute_result"
    }
   ],
   "source": [
    "A*p3[0] + B*p3[1] +C2"
   ]
  },
  {
   "cell_type": "code",
   "execution_count": 17,
   "metadata": {},
   "outputs": [
    {
     "data": {
      "text/plain": [
       "245.3"
      ]
     },
     "execution_count": 17,
     "metadata": {},
     "output_type": "execute_result"
    }
   ],
   "source": [
    "(A*p3[0] +B*p3[1])"
   ]
  },
  {
   "cell_type": "code",
   "execution_count": 18,
   "metadata": {},
   "outputs": [
    {
     "name": "stdout",
     "output_type": "stream",
     "text": [
      "-245.3\n"
     ]
    }
   ],
   "source": [
    "C2 = -(A*p3[0] +B*p3[1]) \n",
    "print(C2)"
   ]
  },
  {
   "cell_type": "code",
   "execution_count": 19,
   "metadata": {},
   "outputs": [
    {
     "data": {
      "text/plain": [
       "'kjxfldfij'"
      ]
     },
     "execution_count": 19,
     "metadata": {},
     "output_type": "execute_result"
    }
   ],
   "source": [
    "\"kjxf\"+\"ldfij\""
   ]
  },
  {
   "cell_type": "code",
   "execution_count": 29,
   "metadata": {},
   "outputs": [
    {
     "name": "stdout",
     "output_type": "stream",
     "text": [
      "[-1 -3]\n"
     ]
    }
   ],
   "source": [
    "# import library\n",
    "import numpy as np\n",
    "\n",
    "# declare vectors\n",
    "    x = [[1, 0], [3, 4]]\n",
    "    y = [0, -1]\n",
    "\n",
    "# find cross product of\n",
    "# two given vectors\n",
    "# result = np.cross(y, x)\n",
    "result = np.cross(x, y)\n",
    "\n",
    "\n",
    "# show the result\n",
    "print(result)\n"
   ]
  },
  {
   "cell_type": "code",
   "execution_count": 18,
   "metadata": {},
   "outputs": [],
   "source": [
    "x, y = np.ogrid[:3, :4]"
   ]
  },
  {
   "cell_type": "code",
   "execution_count": 19,
   "metadata": {},
   "outputs": [],
   "source": [
    "a = np.array([1,3,-1,3,-2])"
   ]
  },
  {
   "cell_type": "code",
   "execution_count": 20,
   "metadata": {},
   "outputs": [],
   "source": [
    "b = np.where(a>0)"
   ]
  },
  {
   "cell_type": "code",
   "execution_count": 21,
   "metadata": {},
   "outputs": [],
   "source": [
    "positive = np.take(a, b)"
   ]
  },
  {
   "cell_type": "code",
   "execution_count": 22,
   "metadata": {},
   "outputs": [
    {
     "data": {
      "text/plain": [
       "array([[1, 3, 3]])"
      ]
     },
     "execution_count": 22,
     "metadata": {},
     "output_type": "execute_result"
    }
   ],
   "source": [
    "positive"
   ]
  },
  {
   "cell_type": "code",
   "execution_count": null,
   "metadata": {},
   "outputs": [],
   "source": []
  }
 ],
 "metadata": {
  "kernelspec": {
   "display_name": "Python 3 (ipykernel)",
   "language": "python",
   "name": "python3"
  },
  "language_info": {
   "codemirror_mode": {
    "name": "ipython",
    "version": 3
   },
   "file_extension": ".py",
   "mimetype": "text/x-python",
   "name": "python",
   "nbconvert_exporter": "python",
   "pygments_lexer": "ipython3",
   "version": "3.8.10"
  }
 },
 "nbformat": 4,
 "nbformat_minor": 2
}
