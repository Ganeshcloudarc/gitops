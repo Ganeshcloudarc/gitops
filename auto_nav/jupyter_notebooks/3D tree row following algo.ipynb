{
 "cells": [
  {
   "cell_type": "code",
   "execution_count": 8,
   "metadata": {},
   "outputs": [],
   "source": [
    "#imports\n",
    "import random\n",
    "import matplotlib.pyplot as plt\n",
    "import numpy as np\n",
    "import math"
   ]
  },
  {
   "cell_type": "code",
   "execution_count": 9,
   "metadata": {},
   "outputs": [],
   "source": [
    "inliersTolerance = 2\n",
    "inliersCount = 20\n",
    "inliers = [(i + random.random()*inliersTolerance, \n",
    "            2*(i + random.random()*inliersTolerance))\n",
    "           for i in range(0, inliersCount)]\n",
    "\n",
    "outliersCount = 20\n",
    "outliers = [(random.random()*outliersCount, \n",
    "             2*(random.random()*outliersCount))\n",
    "            for i in range(0, outliersCount)]"
   ]
  },
  {
   "cell_type": "code",
   "execution_count": 10,
   "metadata": {},
   "outputs": [
    {
     "data": {
      "image/png": "[encoded data removed]",
      "text/plain": [
       "<Figure size 432x288 with 1 Axes>"
      ]
     },
     "metadata": {
      "needs_background": "light"
     },
     "output_type": "display_data"
    }
   ],
   "source": [
    "inliersCount = 30\n",
    "inliersTolerance= 2\n",
    "\n",
    "\n",
    "left_points = [(2 + random.random()*inliersTolerance, \n",
    "            i + random.random()*inliersTolerance)\n",
    "           for i in range(0, inliersCount)]\n",
    "\n",
    "right_points = [(10 + random.random()*inliersTolerance, \n",
    "            i + random.random()*inliersTolerance)\n",
    "           for i in range(0, inliersCount)]\n",
    "all_points = left_points+ right_points\n",
    "for point in all_points:\n",
    "    plt.scatter(point[0], point[1], color=\"blue\")\n",
    "plt.title('Line Fitted through points in 2D using Ransac')\n",
    "plt.show()"
   ]
  },
  {
   "cell_type": "code",
   "execution_count": 11,
   "metadata": {},
   "outputs": [
    {
     "data": {
      "image/png": "[encoded data removed]",
      "text/plain": [
       "<Figure size 432x288 with 1 Axes>"
      ]
     },
     "metadata": {
      "needs_background": "light"
     },
     "output_type": "display_data"
    }
   ],
   "source": [
    "for point in all_points:\n",
    "    plt.scatter(point[0], point[1], color=\"blue\")\n",
    "plt.title('Line Fitted through points in 2D using Ransac')\n",
    "plt.show()\n",
    "\n",
    "# print(\"inliers count = {0}\".format(max_inliers))\n"
   ]
  },
  {
   "cell_type": "code",
   "execution_count": 12,
   "metadata": {},
   "outputs": [
    {
     "ename": "SyntaxError",
     "evalue": "invalid syntax (<ipython-input-12-5d11a4093c1d>, line 2)",
     "output_type": "error",
     "traceback": [
      "\u001b[0;36m  File \u001b[0;32m\"<ipython-input-12-5d11a4093c1d>\"\u001b[0;36m, line \u001b[0;32m2\u001b[0m\n\u001b[0;31m    input : Q k\u001b[0m\n\u001b[0m          ^\u001b[0m\n\u001b[0;31mSyntaxError\u001b[0m\u001b[0;31m:\u001b[0m invalid syntax\n"
     ]
    }
   ],
   "source": [
    "# Line fitting algo\n",
    "input : Q k\n",
    "output : L l and L r\n",
    "begin\n",
    "for a certain number of iterations do\n",
    "From Q k , randomly select a set of points on the left\n",
    "side, L k , and a set of points on the right side, R k ,\n",
    "where |L k |, |R k | ≥ 1 and |L k | + |R k | ≥ 3, compute\n",
    "L l and L r based on (7);\n",
    "Compute the distance from each point in Q k to L l\n",
    "and L r , select a set of inliers from Q k on the left\n",
    "and right sides, respectively, replace L k and R k with\n",
    "the selected inlier sets;\n",
    "if |L k | and |R k | are both larger than a threshold then\n",
    "Compute a k , b l , and b r again using L k and R k\n",
    "based on (7), then, compute the squared distance\n",
    "(SD) from each point in L k to L l , and from each\n",
    "point in R k to L r ;\n",
    "if the mean SD is smaller than a threshold then\n",
    "Break;\n",
    "end\n",
    "end\n",
    "end\n",
    "Return L l and L r with the minimum mean SD found.\n",
    "end"
   ]
  },
  {
   "cell_type": "code",
   "execution_count": 13,
   "metadata": {},
   "outputs": [
    {
     "ename": "NameError",
     "evalue": "name 'b' is not defined",
     "output_type": "error",
     "traceback": [
      "\u001b[0;31m---------------------------------------------------------------------------\u001b[0m",
      "\u001b[0;31mNameError\u001b[0m                                 Traceback (most recent call last)",
      "\u001b[0;32m<ipython-input-13-8072d5497a6f>\u001b[0m in \u001b[0;36m<module>\u001b[0;34m()\u001b[0m\n\u001b[0;32m----> 1\u001b[0;31m \u001b[0mA\u001b[0m\u001b[0;34m[\u001b[0m\u001b[0ma\u001b[0m\u001b[0;34m,\u001b[0m\u001b[0mb_l\u001b[0m\u001b[0;34m,\u001b[0m\u001b[0mb_r\u001b[0m\u001b[0;34m]\u001b[0m\u001b[0;34m.\u001b[0m\u001b[0mT\u001b[0m \u001b[0;34m=\u001b[0m \u001b[0mb\u001b[0m\u001b[0;34m\u001b[0m\u001b[0m\n\u001b[0m\u001b[1;32m      2\u001b[0m \u001b[0mA\u001b[0m \u001b[0;34m=\u001b[0m \u001b[0mmatrix\u001b[0m\u001b[0;34m\u001b[0m\u001b[0m\n",
      "\u001b[0;31mNameError\u001b[0m: name 'b' is not defined"
     ]
    }
   ],
   "source": [
    "A[a,b_l,b_r].T = b\n",
    "A = matrix\n"
   ]
  },
  {
   "cell_type": "code",
   "execution_count": 25,
   "metadata": {},
   "outputs": [
    {
     "name": "stdout",
     "output_type": "stream",
     "text": [
      "('lr_all_points', array([[10.67360461, 13.88722525],\n",
      "       [11.01104291, 20.93719098],\n",
      "       [11.22275912, 24.80798564],\n",
      "       [11.14814519,  3.9192749 ],\n",
      "       [11.07596242, 25.70022132],\n",
      "       [10.77030831, 16.8315298 ],\n",
      "       [10.07845849,  1.36791919],\n",
      "       [11.16099008, 11.11561181],\n",
      "       [11.1447031 , 17.21121394],\n",
      "       [10.42435208,  4.7501314 ],\n",
      "       [ 3.67024076, 13.23264811],\n",
      "       [ 3.09733158,  0.47325553],\n",
      "       [ 2.31479308,  9.49094672],\n",
      "       [ 2.93947466,  4.48558469],\n",
      "       [ 2.88141011, 16.08962553],\n",
      "       [ 3.82804172,  5.50915222],\n",
      "       [ 2.69516854, 17.88599261],\n",
      "       [ 2.96069882, 22.97927838],\n",
      "       [ 3.9368173 , 14.00836199],\n",
      "       [ 3.09032687,  3.21908145]]))\n",
      "('sum_r_y', 140.52830421143867)\n",
      "('sum_lr_x_sqre', 1284.1890560320617)\n",
      "('check, ', 1284.1890560320617, 31.414303436915112)\n",
      "('A', array([[  31.41430344,   10.        ,    0.        ],\n",
      "       [ 108.71032633,    0.        ,   10.        ],\n",
      "       [1284.18905603,   31.41430344,  108.71032633]]))\n",
      "('sum_lr_xy_mul', 1879.9624755710443)\n",
      "('b', array([ 107.37392724,  140.52830421, 1879.96247557]))\n",
      "('coffs', array([  4778.36017359,  30472.27942508, 346674.35525926]))\n",
      "('coffs1', array([2432877.19182012,   60131.45092999,  205776.6172487 ]))\n"
     ]
    },
    {
     "data": {
      "image/png": "[encoded data removed]",
      "text/plain": [
       "<Figure size 432x288 with 1 Axes>"
      ]
     },
     "metadata": {
      "needs_background": "light"
     },
     "output_type": "display_data"
    }
   ],
   "source": [
    "# algo starts\n",
    "for _ in range(0,1):\n",
    "    lk = ganerate_random_sets_points(len(left_points), 10)\n",
    "    rk = ganerate_random_sets_points(len(right_points), 10)\n",
    "    \n",
    "    lk_points = np.array([left_points[i] for i in lk])\n",
    "    rk_points = np.array([right_points[i] for i in rk])\n",
    "    for point in rk_points:\n",
    "        plt.scatter(point[0], point[1], color=\"red\")\n",
    "    for point in lk_points:\n",
    "        plt.scatter(point[0], point[1], color=\"blue\")\n",
    "    lr_all_points = np.concatenate((rk_points, lk_points), axis=0)\n",
    "    print(\"lr_all_points\",lr_all_points)\n",
    "    for point in lr_all_points:\n",
    "        plt.scatter(point[0], point[1], color=\"green\")\n",
    "        \n",
    "    sum_l_x = lk_points[:,0].sum()\n",
    "    sum_l_y = lk_points[:,1].sum()\n",
    "    sum_r_x = rk_points[:,0].sum()\n",
    "    sum_r_y = rk_points[:,1].sum()\n",
    "    print(\"sum_r_y\", sum_r_y)\n",
    "    sum_lr_x_sqre = (lr_all_points[:,0]*lr_all_points[:,0]).sum()\n",
    "    print(\"sum_lr_x_sqre\", sum_lr_x_sqre)\n",
    "    print(\"check, \" ,sum_lr_x_sqre, sum_l_x )\n",
    "    \n",
    "    A = np.array([\n",
    "            [sum_l_x, len(lk_points), 0],\n",
    "            [sum_r_x, 0, len(rk_points)],\n",
    "            [sum_lr_x_sqre,sum_l_x, sum_r_x]\n",
    "            ])\n",
    "    print(\"A\",A)\n",
    "    \n",
    "    sum_lr_xy_mul = (lr_all_points[:,0]*lr_all_points[:,1]).sum()\n",
    "    print(\"sum_lr_xy_mul\",sum_lr_xy_mul)\n",
    "    \n",
    "    b = np.array([sum_l_y,sum_r_y,sum_lr_xy_mul])\n",
    "    print(\"b\",b.T)\n",
    "    \n",
    "    coffs = np.matmul(A, b)\n",
    "    print(\"coffs\",coffs)\n",
    "    \n",
    "    coffs1 = np.matmul(b, A)\n",
    "    print(\"coffs1\",coffs1)\n",
    "    \n",
    "\n",
    "    \n",
    "plt.show()    \n",
    "    "
   ]
  },
  {
   "cell_type": "code",
   "execution_count": 27,
   "metadata": {},
   "outputs": [
    {
     "data": {
      "image/png": "[encoded data removed]",
      "text/plain": [
       "<Figure size 432x288 with 1 Axes>"
      ]
     },
     "metadata": {
      "needs_background": "light"
     },
     "output_type": "display_data"
    },
    {
     "data": {
      "text/plain": [
       "array([3.67024076, 3.09733158, 2.31479308, 2.93947466, 2.88141011,\n",
       "       3.82804172, 2.69516854, 2.96069882, 3.9368173 , 3.09032687])"
      ]
     },
     "execution_count": 27,
     "metadata": {},
     "output_type": "execute_result"
    }
   ],
   "source": [
    "def ganerate_random_sets_points(len_of_points, number_of_sets = 10):\n",
    "    rand_indexs = []\n",
    "    while len(rand_indexs) < number_of_sets:\n",
    "        ind = random.randint(0,len_of_points-1)\n",
    "        if ind not in rand_indexs:\n",
    "            rand_indexs.append(ind)\n",
    "    return rand_indexs\n",
    "ganerate_random_sets_points(21,10)\n",
    "\n",
    "for point in rk_points+lk_points:\n",
    "    plt.scatter(point[0], point[1], color=\"blue\")\n",
    "plt.title('Line Fitted through points in 2D using Ransac')\n",
    "plt.show()\n",
    "lk_points[:,1]\n",
    "lk_points[:,0]\n",
    "\n"
   ]
  },
  {
   "cell_type": "code",
   "execution_count": 16,
   "metadata": {},
   "outputs": [
    {
     "ename": "NameError",
     "evalue": "name 'rk_points' is not defined",
     "output_type": "error",
     "traceback": [
      "\u001b[0;31m---------------------------------------------------------------------------\u001b[0m",
      "\u001b[0;31mNameError\u001b[0m                                 Traceback (most recent call last)",
      "\u001b[0;32m<ipython-input-16-7925db90473b>\u001b[0m in \u001b[0;36m<module>\u001b[0;34m()\u001b[0m\n\u001b[0;32m----> 1\u001b[0;31m \u001b[0;32mfor\u001b[0m \u001b[0mpoint\u001b[0m \u001b[0;32min\u001b[0m \u001b[0mrk_points\u001b[0m\u001b[0;34m+\u001b[0m\u001b[0mlk_points\u001b[0m\u001b[0;34m:\u001b[0m\u001b[0;34m\u001b[0m\u001b[0m\n\u001b[0m\u001b[1;32m      2\u001b[0m     \u001b[0mplt\u001b[0m\u001b[0;34m.\u001b[0m\u001b[0mscatter\u001b[0m\u001b[0;34m(\u001b[0m\u001b[0mpoint\u001b[0m\u001b[0;34m[\u001b[0m\u001b[0;36m0\u001b[0m\u001b[0;34m]\u001b[0m\u001b[0;34m,\u001b[0m \u001b[0mpoint\u001b[0m\u001b[0;34m[\u001b[0m\u001b[0;36m1\u001b[0m\u001b[0;34m]\u001b[0m\u001b[0;34m,\u001b[0m \u001b[0mcolor\u001b[0m\u001b[0;34m=\u001b[0m\u001b[0;34m\"blue\"\u001b[0m\u001b[0;34m)\u001b[0m\u001b[0;34m\u001b[0m\u001b[0m\n\u001b[1;32m      3\u001b[0m \u001b[0mplt\u001b[0m\u001b[0;34m.\u001b[0m\u001b[0mtitle\u001b[0m\u001b[0;34m(\u001b[0m\u001b[0;34m'Line Fitted through points in 2D using Ransac'\u001b[0m\u001b[0;34m)\u001b[0m\u001b[0;34m\u001b[0m\u001b[0m\n\u001b[1;32m      4\u001b[0m \u001b[0mplt\u001b[0m\u001b[0;34m.\u001b[0m\u001b[0mshow\u001b[0m\u001b[0;34m(\u001b[0m\u001b[0;34m)\u001b[0m\u001b[0;34m\u001b[0m\u001b[0m\n",
      "\u001b[0;31mNameError\u001b[0m: name 'rk_points' is not defined"
     ]
    }
   ],
   "source": [
    "for point in rk_points+lk_points:\n",
    "    plt.scatter(point[0], point[1], color=\"blue\")\n",
    "plt.title('Line Fitted through points in 2D using Ransac')\n",
    "plt.show()"
   ]
  },
  {
   "cell_type": "code",
   "execution_count": 17,
   "metadata": {},
   "outputs": [
    {
     "ename": "NameError",
     "evalue": "name 'lk_points' is not defined",
     "output_type": "error",
     "traceback": [
      "\u001b[0;31m---------------------------------------------------------------------------\u001b[0m",
      "\u001b[0;31mNameError\u001b[0m                                 Traceback (most recent call last)",
      "\u001b[0;32m<ipython-input-17-0d0cfcaa9763>\u001b[0m in \u001b[0;36m<module>\u001b[0;34m()\u001b[0m\n\u001b[0;32m----> 1\u001b[0;31m \u001b[0mlk_points\u001b[0m\u001b[0;34m[\u001b[0m\u001b[0;34m:\u001b[0m\u001b[0;34m,\u001b[0m\u001b[0;36m1\u001b[0m\u001b[0;34m]\u001b[0m\u001b[0;34m\u001b[0m\u001b[0m\n\u001b[0m",
      "\u001b[0;31mNameError\u001b[0m: name 'lk_points' is not defined"
     ]
    }
   ],
   "source": [
    "lk_points[:,1]\n",
    "lk_points[:,0]"
   ]
  },
  {
   "cell_type": "code",
   "execution_count": 18,
   "metadata": {},
   "outputs": [
    {
     "ename": "NameError",
     "evalue": "name 'lk_points' is not defined",
     "output_type": "error",
     "traceback": [
      "\u001b[0;31m---------------------------------------------------------------------------\u001b[0m",
      "\u001b[0;31mNameError\u001b[0m                                 Traceback (most recent call last)",
      "\u001b[0;32m<ipython-input-18-6a837b1d7b50>\u001b[0m in \u001b[0;36m<module>\u001b[0;34m()\u001b[0m\n\u001b[0;32m----> 1\u001b[0;31m \u001b[0mlk_points\u001b[0m\u001b[0;34m[\u001b[0m\u001b[0;34m:\u001b[0m\u001b[0;34m,\u001b[0m\u001b[0;36m0\u001b[0m\u001b[0;34m]\u001b[0m\u001b[0;34m\u001b[0m\u001b[0m\n\u001b[0m",
      "\u001b[0;31mNameError\u001b[0m: name 'lk_points' is not defined"
     ]
    }
   ],
   "source": [
    "lk_points[:,0]"
   ]
  },
  {
   "cell_type": "code",
   "execution_count": 19,
   "metadata": {},
   "outputs": [
    {
     "ename": "NameError",
     "evalue": "name 'lk_points' is not defined",
     "output_type": "error",
     "traceback": [
      "\u001b[0;31m---------------------------------------------------------------------------\u001b[0m",
      "\u001b[0;31mNameError\u001b[0m                                 Traceback (most recent call last)",
      "\u001b[0;32m<ipython-input-19-21163c937aae>\u001b[0m in \u001b[0;36m<module>\u001b[0;34m()\u001b[0m\n\u001b[0;32m----> 1\u001b[0;31m \u001b[0;34m(\u001b[0m\u001b[0mlk_points\u001b[0m\u001b[0;34m[\u001b[0m\u001b[0;34m:\u001b[0m\u001b[0;34m,\u001b[0m\u001b[0;36m0\u001b[0m\u001b[0;34m]\u001b[0m\u001b[0;34m*\u001b[0m\u001b[0mlk_points\u001b[0m\u001b[0;34m[\u001b[0m\u001b[0;34m:\u001b[0m\u001b[0;34m,\u001b[0m\u001b[0;36m0\u001b[0m\u001b[0;34m]\u001b[0m\u001b[0;34m)\u001b[0m\u001b[0;34m.\u001b[0m\u001b[0msum\u001b[0m\u001b[0;34m(\u001b[0m\u001b[0;34m)\u001b[0m\u001b[0;34m\u001b[0m\u001b[0m\n\u001b[0m",
      "\u001b[0;31mNameError\u001b[0m: name 'lk_points' is not defined"
     ]
    }
   ],
   "source": [
    "(lk_points[:,0]*lk_points[:,0]).sum()"
   ]
  },
  {
   "cell_type": "code",
   "execution_count": 20,
   "metadata": {},
   "outputs": [
    {
     "name": "stdout",
     "output_type": "stream",
     "text": [
      "(array([[2, 3, 4],\n",
      "       [2, 3, 4]]), array([[-1,  2, 33]]), array([[ 1,  5, 37],\n",
      "       [ 1,  5, 37]]))\n"
     ]
    }
   ],
   "source": [
    "a = np.array([[2,3,4],[2,3,4]])\n",
    "b = np.array([[-1,2,33]])\n",
    "c = a+b\n",
    "print(a,b,c)"
   ]
  },
  {
   "cell_type": "code",
   "execution_count": 21,
   "metadata": {},
   "outputs": [
    {
     "data": {
      "text/plain": [
       "array([[ 2,  3,  4],\n",
       "       [ 2,  3,  4],\n",
       "       [-1,  2, 33]])"
      ]
     },
     "execution_count": 21,
     "metadata": {},
     "output_type": "execute_result"
    }
   ],
   "source": [
    "np.concatenate((a, b), axis=0)"
   ]
  },
  {
   "cell_type": "code",
   "execution_count": 22,
   "metadata": {},
   "outputs": [
    {
     "data": {
      "text/plain": [
       "array([[ 5, 12],\n",
       "       [15, 24]])"
      ]
     },
     "execution_count": 22,
     "metadata": {},
     "output_type": "execute_result"
    }
   ],
   "source": [
    "a = np.array([[1, 2], [3, 4]])\n",
    "b = np.array([[5, 6]])\n",
    "a*b"
   ]
  },
  {
   "cell_type": "code",
   "execution_count": 23,
   "metadata": {},
   "outputs": [
    {
     "data": {
      "text/plain": [
       "array([ 2, 12])"
      ]
     },
     "execution_count": 23,
     "metadata": {},
     "output_type": "execute_result"
    }
   ],
   "source": [
    "a = np.array([[1, 2],\n",
    "              [3, 4]])\n",
    "\n",
    "b = a[:,0] * a[:,1]\n",
    "b\n"
   ]
  },
  {
   "cell_type": "code",
   "execution_count": 24,
   "metadata": {},
   "outputs": [
    {
     "data": {
      "text/plain": [
       "6"
      ]
     },
     "execution_count": 24,
     "metadata": {},
     "output_type": "execute_result"
    }
   ],
   "source": [
    "a[:,1].sum()\n"
   ]
  },
  {
   "cell_type": "code",
   "execution_count": null,
   "metadata": {},
   "outputs": [],
   "source": [
    "b*b"
   ]
  },
  {
   "cell_type": "code",
   "execution_count": null,
   "metadata": {},
   "outputs": [],
   "source": [
    "inliersCount = 30\n",
    "inliersTolerance= 2\n",
    "\n",
    "\n",
    "left_points = [(2 + random.random()*inliersTolerance, \n",
    "            i + random.random()*inliersTolerance)\n",
    "           for i in range(0, inliersCount)]\n",
    "\n",
    "right_points = [(10 + random.random()*inliersTolerance, \n",
    "            i + random.random()*inliersTolerance)\n",
    "           for i in range(0, inliersCount)]\n",
    "all_points = left_points+ right_points\n",
    "for point in all_points:\n",
    "    plt.scatter(point[0], point[1], color=\"blue\")\n",
    "plt.title('Line Fitted through points in 2D using Ransac')\n",
    "plt.show()"
   ]
  },
  {
   "cell_type": "code",
   "execution_count": null,
   "metadata": {},
   "outputs": [],
   "source": []
  }
 ],
 "metadata": {
  "kernelspec": {
   "display_name": "Python 3 (ipykernel)",
   "language": "python",
   "name": "python3"
  },
  "language_info": {
   "codemirror_mode": {
    "name": "ipython",
    "version": 2
   },
   "file_extension": ".py",
   "mimetype": "text/x-python",
   "name": "python",
   "nbconvert_exporter": "python",
   "pygments_lexer": "ipython2",
   "version": "2.7.18"
  }
 },
 "nbformat": 4,
 "nbformat_minor": 2
}
