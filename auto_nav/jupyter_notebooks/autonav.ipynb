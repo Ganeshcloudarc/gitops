{
 "cells": [
  {
   "cell_type": "code",
   "execution_count": 54,
   "metadata": {},
   "outputs": [],
   "source": [
    "import numpy as np\n",
    "import matplotlib.pyplot as plt\n",
    "import math\n",
    "# plt.style.use('_mpl-gallery "
   ]
  },
  {
   "cell_type": "code",
   "execution_count": 55,
   "metadata": {},
   "outputs": [],
   "source": [
    "lenght = 5\n",
    "width = 3\n",
    "minimun_turning_radius = 3\n",
    "\n"
   ]
  },
  {
   "cell_type": "code",
   "execution_count": 57,
   "metadata": {},
   "outputs": [
    {
     "data": {
      "text/plain": [
       "array([-2,  2])"
      ]
     },
     "execution_count": 57,
     "metadata": {},
     "output_type": "execute_result"
    }
   ],
   "source": [
    "bboxes[:,0]"
   ]
  },
  {
   "cell_type": "code",
   "execution_count": 56,
   "metadata": {},
   "outputs": [
    {
     "data": {
      "text/plain": [
       "array([[-2,  3],\n",
       "       [ 2,  3]])"
      ]
     },
     "execution_count": 56,
     "metadata": {},
     "output_type": "execute_result"
    }
   ],
   "source": [
    "bboxes = np.array([[-(lenght/2), width],[lenght/2, width]])\n",
    "bboxes"
   ]
  },
  {
   "cell_type": "code",
   "execution_count": null,
   "metadata": {},
   "outputs": [],
   "source": [
    "# bboxes[:,1]\n",
    "bboxes[0]- bboxes[1]"
   ]
  },
  {
   "cell_type": "code",
   "execution_count": null,
   "metadata": {},
   "outputs": [],
   "source": [
    "robot_pose = np.array([0,0,np.pi/2])\n",
    "print(robot_pose)"
   ]
  },
  {
   "cell_type": "code",
   "execution_count": null,
   "metadata": {},
   "outputs": [],
   "source": [
    "# \n",
    "plt.scatter(bboxes[:,0], bboxes[:,1])#, s=sizes, c=colors, vmin=0, vmax=100)\n",
    "plt.scatter(robot_pose[0], robot_pose[1])\n",
    "\n",
    "plt.arrow(x=robot_pose[0], y=robot_pose[1], dx=0, dy=1, head_width = 0.5, \n",
    "         head_length = 0.2)\n",
    "         \n",
    "\n",
    "plt.show()"
   ]
  },
  {
   "cell_type": "code",
   "execution_count": null,
   "metadata": {},
   "outputs": [],
   "source": [
    "# Unit vector\n",
    "v = bboxes[0]- bboxes[1]\n",
    "print(v)\n",
    "v_hat = v / np.linalg.norm(v)\n",
    "v_hat"
   ]
  },
  {
   "cell_type": "code",
   "execution_count": null,
   "metadata": {},
   "outputs": [],
   "source": [
    "angle = math.atan2(v_hat[1],v_hat[0])\n",
    "math.degrees(angle)"
   ]
  },
  {
   "cell_type": "code",
   "execution_count": null,
   "metadata": {},
   "outputs": [],
   "source": [
    "# counter clock wise normal vector is\n",
    "# https://mathworld.wolfram.com/PerpendicularVector.html\n",
    "# (ax,ay )\n",
    "# norm = (-ay, ax) - clock wise\n",
    "# norm = (ay,-ax) - counter clock wise\n",
    "v_hat_norm =  np.dot(np.array([[0,-1],[1,0]]),v_hat.T)\n",
    "v_hat_norm\n",
    "\n",
    "# anti clock wise direction\n",
    "# (dy, -dx)."
   ]
  },
  {
   "cell_type": "code",
   "execution_count": null,
   "metadata": {},
   "outputs": [],
   "source": [
    "v_hat_norm_anti_clock  = np.array([v_hat[1], -v_hat[0]])\n",
    "v_hat_norm_anti_clock"
   ]
  },
  {
   "cell_type": "code",
   "execution_count": null,
   "metadata": {},
   "outputs": [],
   "source": [
    "bboxes[0] + v_hat_norm_anti_clock"
   ]
  },
  {
   "cell_type": "code",
   "execution_count": null,
   "metadata": {},
   "outputs": [],
   "source": [
    "pred_bboxes_left = []\n",
    "pred_bboxes_right = []\n",
    "\n",
    "pred_bboxes_left.append(bboxes[0])\n",
    "pred_bboxes_right.append(bboxes[1])\n",
    "for _ in range(10):\n",
    "    pred_bboxes_left.append(pred_bboxes_left[-1]+v_hat_norm_anti_clock*width)\n",
    "    pred_bboxes_right.append(pred_bboxes_right[-1]+ v_hat_norm_anti_clock*width)\n",
    "print(pred_bboxes_left)\n",
    "pred_bboxes_left = np.array(pred_bboxes_left)\n",
    "pred_bboxes_right = np.array(pred_bboxes_left)"
   ]
  },
  {
   "cell_type": "code",
   "execution_count": null,
   "metadata": {},
   "outputs": [],
   "source": [
    "## multiple rows\n",
    "# Predicted bounding boxes code.\n",
    "\n",
    "pred_bboxes_left = []\n",
    "pred_bboxes_right = []\n",
    "pred_bboxes_left_row = []\n",
    "pred_bboxes_right_row = []\n",
    "\n",
    "\n",
    "pred_bboxes_left.append(bboxes[0])\n",
    "pred_bboxes_right.append(bboxes[1])\n",
    "pred_bboxes_left_row.append(bboxes[0])\n",
    "pred_bboxes_right_row.append(bboxes[1])\n",
    "for _ in range(10):\n",
    "    pred_bboxes_left.append(pred_bboxes_left[-1]+v_hat_norm_anti_clock*width)\n",
    "    pred_bboxes_right.append(pred_bboxes_right[-1]+ v_hat_norm_anti_clock*width)\n",
    "    pred_bboxes_left_row.append(pred_bboxes_left[-1])\n",
    "    pred_bboxes_right_row.append(pred_bboxes_right[-1])\n",
    "    for _ in range(10):\n",
    "        pred_bboxes_left_row.append(pred_bboxes_left_row[-1]+ v_hat*lenght)\n",
    "        pred_bboxes_right_row.append(pred_bboxes_right_row[-1]-v_hat*lenght)\n",
    "print(pred_bboxes_left)\n",
    "# pred_bboxes_left = np.array(pred_bboxes_left)\n",
    "# pred_bboxes_right = np.array(pred_bboxes_right)\n",
    "# pred_bboxes_left_row = np.array(pred_bboxes_left_row)\n",
    "# pred_bboxes_right_row = np.array(pred_bboxes_right_row)\n",
    "\n",
    "# for i in range(10):\n",
    "#     if i ==0:\n",
    "#         pred_bboxes_left_row.append(pred_bboxes_left_row[]+v_hat_norm_anti_clock*width)\n",
    "#     pred_bboxes_left_row.append(pred_bboxes_left_row[-1]+v_hat_norm_anti_clock*width)\n",
    "        \n",
    "        \n",
    "#     pred_bboxes_left_row.append()\n",
    "\n",
    "\n",
    "# for i in range(len(pred_bboxes_left_row)):\n",
    "    \n",
    "    \n",
    "    \n",
    "        \n",
    "    \n",
    "pred_bboxes_left = np.array(pred_bboxes_left)\n",
    "pred_bboxes_right = np.array(pred_bboxes_right)\n",
    "pred_bboxes_left_row = np.array(pred_bboxes_left_row)\n",
    "pred_bboxes_right_row = np.array(pred_bboxes_right_row)\n",
    "\n",
    "    "
   ]
  },
  {
   "cell_type": "code",
   "execution_count": null,
   "metadata": {},
   "outputs": [],
   "source": [
    "# \n",
    "%matplotlib inline\n",
    "# %matplotlib notebook\n",
    "plt.figure(figsize=(20,5))\n",
    "\n",
    "plt.scatter(bboxes[:,0], bboxes[:,1])#, s=sizes, c=colors, vmin=0, vmax=100)\n",
    "\n",
    "\n",
    "plt.scatter(pred_bboxes_left[1:,0], pred_bboxes_left[1:,1])\n",
    "plt.scatter(pred_bboxes_right[1:,0], pred_bboxes_right[1:,1])\n",
    "plt.scatter(pred_bboxes_left_row[1:,0], pred_bboxes_left_row[1:,1])\n",
    "plt.scatter(pred_bboxes_right_row[1:,0], pred_bboxes_right_row[1:,1])\n",
    "\n",
    "\n",
    "\n",
    "plt.scatter(robot_pose[0], robot_pose[1])\n",
    "\n",
    "plt.arrow(x=robot_pose[0], y=robot_pose[1], dx=0, dy=1, head_width = 0.5, \n",
    "         head_length = 0.2)\n",
    "         \n",
    "plt.grid(color = 'black', linestyle = '--', linewidth = 0.5)\n",
    "\n",
    "plt.show()"
   ]
  },
  {
   "cell_type": "code",
   "execution_count": null,
   "metadata": {},
   "outputs": [],
   "source": [
    "points = np.array([[0,0],[0,1],[0,2],[1,3],[-1,3]])\n"
   ]
  },
  {
   "cell_type": "code",
   "execution_count": null,
   "metadata": {},
   "outputs": [],
   "source": [
    "v_close = points[1] - points[0]\n",
    "print(v_close)\n",
    "vect_list = []\n",
    "for i in range(len(points)-1):\n",
    "    v = np.array([points[i+1][0] - v_close[0] , points[i+1][1] - v_close[1]])\n",
    "    print(\"V\", v)\n",
    "    vect_list.append(v)"
   ]
  },
  {
   "cell_type": "code",
   "execution_count": null,
   "metadata": {},
   "outputs": [],
   "source": [
    "def GetAngle(v1,v2):\n",
    "    return math.atan2(np.cross(v1,v2), np.dot(v1,v2));"
   ]
  },
  {
   "cell_type": "code",
   "execution_count": null,
   "metadata": {},
   "outputs": [],
   "source": [
    "vect_list"
   ]
  },
  {
   "cell_type": "code",
   "execution_count": null,
   "metadata": {},
   "outputs": [],
   "source": [
    "for i in range(1,len(vect_list)):\n",
    "    angle = GetAngle(v_close,vect_list[i])\n",
    "#     print(\"v_close\", v_close)\n",
    "#     print(\"vect_list[i]\", vect_list[i])\n",
    "    print(\"angle\", angle)"
   ]
  },
  {
   "cell_type": "code",
   "execution_count": null,
   "metadata": {},
   "outputs": [],
   "source": [
    "print(\"v_close\", vect_list)"
   ]
  },
  {
   "cell_type": "code",
   "execution_count": null,
   "metadata": {},
   "outputs": [],
   "source": [
    "# Tree pair detection"
   ]
  },
  {
   "cell_type": "code",
   "execution_count": null,
   "metadata": {},
   "outputs": [],
   "source": [
    "robot_pose = np.array([0,0,np.pi/2])\n",
    "print(robot_pose)"
   ]
  },
  {
   "cell_type": "code",
   "execution_count": null,
   "metadata": {},
   "outputs": [],
   "source": [
    "bboxes = np.array([[-(lenght/2), width],[lenght/2, width]])\n",
    "bboxes"
   ]
  },
  {
   "cell_type": "code",
   "execution_count": null,
   "metadata": {},
   "outputs": [],
   "source": [
    "math.degrees(GetAngle(v_to_right,v_to_left))"
   ]
  },
  {
   "cell_type": "code",
   "execution_count": null,
   "metadata": {},
   "outputs": [],
   "source": [
    "# computes center's locations \n",
    "def compute_tree_centers(tree_pair, size= 8):\n",
    "    np.zeros(\"\")"
   ]
  },
  {
   "cell_type": "code",
   "execution_count": null,
   "metadata": {},
   "outputs": [],
   "source": []
  },
  {
   "cell_type": "code",
   "execution_count": 1,
   "metadata": {},
   "outputs": [
    {
     "data": {
      "text/plain": [
       "[1, 2, 3]"
      ]
     },
     "execution_count": 1,
     "metadata": {},
     "output_type": "execute_result"
    }
   ],
   "source": [
    "a = [1,2,3,4]\n",
    "b = a\n",
    "b.pop()\n",
    "a"
   ]
  },
  {
   "cell_type": "code",
   "execution_count": 11,
   "metadata": {},
   "outputs": [
    {
     "name": "stdout",
     "output_type": "stream",
     "text": [
      "in middle\n"
     ]
    }
   ],
   "source": [
    "min_area = 1\n",
    "area = 3.5\n",
    "max_area = 4\n",
    "if min_area <= area <= max_area: \n",
    "    print(\"in middle\")\n",
    "else: \n",
    "    print(\"not in middle\")"
   ]
  },
  {
   "cell_type": "code",
   "execution_count": 13,
   "metadata": {},
   "outputs": [],
   "source": [
    "path_point = np.array([1,1])\n",
    "bboxes = np.array([[1,1],[2,2],[3,3]])"
   ]
  },
  {
   "cell_type": "code",
   "execution_count": 14,
   "metadata": {},
   "outputs": [
    {
     "data": {
      "text/plain": [
       "array([[ 0,  0],\n",
       "       [-1, -1],\n",
       "       [-2, -2]])"
      ]
     },
     "execution_count": 14,
     "metadata": {},
     "output_type": "execute_result"
    }
   ],
   "source": [
    "path_point- bboxes"
   ]
  },
  {
   "cell_type": "code",
   "execution_count": 15,
   "metadata": {},
   "outputs": [],
   "source": [
    "dist = np.linalg.norm(path_point - bboxes)"
   ]
  },
  {
   "cell_type": "code",
   "execution_count": 16,
   "metadata": {},
   "outputs": [
    {
     "data": {
      "text/plain": [
       "3.1622776601683795"
      ]
     },
     "execution_count": 16,
     "metadata": {},
     "output_type": "execute_result"
    }
   ],
   "source": [
    "dist"
   ]
  },
  {
   "cell_type": "code",
   "execution_count": 17,
   "metadata": {},
   "outputs": [
    {
     "ename": "TypeError",
     "evalue": "hypot expected 2 arguments, got 4",
     "output_type": "error",
     "traceback": [
      "\u001b[0;31m---------------------------------------------------------------------------\u001b[0m",
      "\u001b[0;31mTypeError\u001b[0m                                 Traceback (most recent call last)",
      "\u001b[0;32m<ipython-input-17-1ea067ab5d7f>\u001b[0m in \u001b[0;36m<module>\u001b[0;34m()\u001b[0m\n\u001b[1;32m      3\u001b[0m \u001b[0;34m\u001b[0m\u001b[0m\n\u001b[1;32m      4\u001b[0m \u001b[0;31m#print the Euclidean norm for the given points\u001b[0m\u001b[0;34m\u001b[0m\u001b[0;34m\u001b[0m\u001b[0m\n\u001b[0;32m----> 5\u001b[0;31m \u001b[0;32mprint\u001b[0m\u001b[0;34m(\u001b[0m\u001b[0mmath\u001b[0m\u001b[0;34m.\u001b[0m\u001b[0mhypot\u001b[0m\u001b[0;34m(\u001b[0m\u001b[0;36m10\u001b[0m\u001b[0;34m,\u001b[0m \u001b[0;36m2\u001b[0m\u001b[0;34m,\u001b[0m \u001b[0;36m4\u001b[0m\u001b[0;34m,\u001b[0m \u001b[0;36m13\u001b[0m\u001b[0;34m)\u001b[0m\u001b[0;34m)\u001b[0m\u001b[0;34m\u001b[0m\u001b[0m\n\u001b[0m\u001b[1;32m      6\u001b[0m \u001b[0;32mprint\u001b[0m\u001b[0;34m(\u001b[0m\u001b[0mmath\u001b[0m\u001b[0;34m.\u001b[0m\u001b[0mhypot\u001b[0m\u001b[0;34m(\u001b[0m\u001b[0;36m4\u001b[0m\u001b[0;34m,\u001b[0m \u001b[0;36m7\u001b[0m\u001b[0;34m,\u001b[0m \u001b[0;36m8\u001b[0m\u001b[0;34m)\u001b[0m\u001b[0;34m)\u001b[0m\u001b[0;34m\u001b[0m\u001b[0m\n\u001b[1;32m      7\u001b[0m \u001b[0;32mprint\u001b[0m\u001b[0;34m(\u001b[0m\u001b[0mmath\u001b[0m\u001b[0;34m.\u001b[0m\u001b[0mhypot\u001b[0m\u001b[0;34m(\u001b[0m\u001b[0;36m12\u001b[0m\u001b[0;34m,\u001b[0m \u001b[0;36m14\u001b[0m\u001b[0;34m)\u001b[0m\u001b[0;34m)\u001b[0m\u001b[0;34m\u001b[0m\u001b[0m\n",
      "\u001b[0;31mTypeError\u001b[0m: hypot expected 2 arguments, got 4"
     ]
    }
   ],
   "source": [
    "#Import math Library\n",
    "import math\n",
    "\n",
    "#print the Euclidean norm for the given points\n",
    "print(math.hypot(10, 2, 4, 13))\n",
    "print(math.hypot(4, 7, 8))\n",
    "print(math.hypot(12, 14)) "
   ]
  },
  {
   "cell_type": "code",
   "execution_count": 19,
   "metadata": {},
   "outputs": [
    {
     "data": {
      "text/plain": [
       "1.4142135623730951"
      ]
     },
     "execution_count": 19,
     "metadata": {},
     "output_type": "execute_result"
    }
   ],
   "source": [
    "math.hypot(1, 1)"
   ]
  },
  {
   "cell_type": "code",
   "execution_count": null,
   "metadata": {},
   "outputs": [],
   "source": [
    "a = [1,2,3]\n",
    "a[:] = [a in ]"
   ]
  },
  {
   "cell_type": "code",
   "execution_count": 174,
   "metadata": {},
   "outputs": [],
   "source": [
    "def rectangle_form_pose(robo_x,robo_y, x_size, y_size):\n",
    "    trans_list = [\n",
    "        [-1, 0],\n",
    "        [-1, 1],\n",
    "        [1, 1],\n",
    "        [1, 0]\n",
    "    ]\n",
    "    corners_list = []\n",
    "#     yaw_ = get_yaw(robot_pose.pose.orientation)\n",
    "    yaw_ = math.radians(90)\n",
    "    c, s = np.cos(yaw_), np.sin(yaw_)\n",
    "    R = np.array(((c, -s), (s, c)))\n",
    "    for x_, y_ in trans_list:\n",
    "        x = robo_x + x_ * x_size/2\n",
    "        y = robo_y + y_ * y_size/2\n",
    "        result = np.dot(R, np.array([x, y]))\n",
    "        corners_list.append(result)\n",
    "    return corners_list\n"
   ]
  },
  {
   "cell_type": "code",
   "execution_count": 175,
   "metadata": {},
   "outputs": [],
   "source": [
    "a = np.array(rectangle_form_pose(0,0, 1.5,1.5))"
   ]
  },
  {
   "cell_type": "code",
   "execution_count": null,
   "metadata": {},
   "outputs": [],
   "source": []
  },
  {
   "cell_type": "code",
   "execution_count": 176,
   "metadata": {},
   "outputs": [
    {
     "data": {
      "text/plain": [
       "array([[-4.5924255e-17, -7.5000000e-01],\n",
       "       [-7.5000000e-01, -7.5000000e-01],\n",
       "       [-7.5000000e-01,  7.5000000e-01],\n",
       "       [ 4.5924255e-17,  7.5000000e-01]])"
      ]
     },
     "execution_count": 176,
     "metadata": {},
     "output_type": "execute_result"
    }
   ],
   "source": [
    "a"
   ]
  },
  {
   "cell_type": "code",
   "execution_count": 177,
   "metadata": {},
   "outputs": [
    {
     "data": {
      "image/png": "[encoded data removed]",
      "text/plain": [
       "<Figure size 720x360 with 1 Axes>"
      ]
     },
     "metadata": {
      "needs_background": "light"
     },
     "output_type": "display_data"
    }
   ],
   "source": [
    "# \n",
    "%matplotlib inline\n",
    "\n",
    "# %matplotlib notebook\n",
    "plt.figure(figsize=(10,5))\n",
    "plt.scatter(a[:,0], a[:,1])\n",
    "plt.grid(color = 'black', linestyle = '--', linewidth = 0.5)\n",
    "\n",
    "plt.show()"
   ]
  },
  {
   "cell_type": "code",
   "execution_count": 178,
   "metadata": {},
   "outputs": [
    {
     "data": {
      "text/plain": [
       "array([[-4.5924255e-17, -7.5000000e-01],\n",
       "       [-7.5000000e-01, -7.5000000e-01],\n",
       "       [-7.5000000e-01,  7.5000000e-01],\n",
       "       [ 4.5924255e-17,  7.5000000e-01]])"
      ]
     },
     "execution_count": 178,
     "metadata": {},
     "output_type": "execute_result"
    }
   ],
   "source": [
    "a[:]"
   ]
  },
  {
   "cell_type": "code",
   "execution_count": 17,
   "metadata": {},
   "outputs": [
    {
     "name": "stdout",
     "output_type": "stream",
     "text": [
      "[[ 0  0  0]\n",
      " [ 1  2  3]\n",
      " [ 2  4  6]\n",
      " [ 3  6  9]\n",
      " [ 4  8 12]\n",
      " [ 5 10 15]\n",
      " [ 6 12 18]\n",
      " [ 7 14 21]\n",
      " [ 8 16 24]\n",
      " [ 9 18 27]]\n"
     ]
    }
   ],
   "source": [
    "import numpy as np\n",
    "path =[]\n",
    "for i in range(10):\n",
    "    path.append([i,i*2,i*3])\n"
   ]
  },
  {
   "cell_type": "code",
   "execution_count": 19,
   "metadata": {},
   "outputs": [
    {
     "data": {
      "text/plain": [
       "[[0, 0, 0], [1, 2, 3], [2, 4, 6]]"
      ]
     },
     "execution_count": 19,
     "metadata": {},
     "output_type": "execute_result"
    }
   ],
   "source": [
    "path_x= [0,0]\n",
    "bx \n",
    "math.hypot(path_x - bx, path_y - bx)"
   ]
  },
  {
   "cell_type": "code",
   "execution_count": 23,
   "metadata": {},
   "outputs": [],
   "source": [
    "class point:\n",
    "    def __init__(self, x, y):\n",
    "        self.x = x\n",
    "        self.y = y\n",
    "\n",
    "def distance(p1, p2):\n",
    "  return ((p1.x - p2.x) ** 2 + (p1.y - p2.y) ** 2) ** 0.5\n",
    "\n",
    "points = [point(1,1), point(2,2)]\n",
    "target = point(0,0)\n",
    "\n",
    "sorted_points = sorted(points, key=lambda e: distance(e, target))"
   ]
  },
  {
   "cell_type": "code",
   "execution_count": 45,
   "metadata": {},
   "outputs": [],
   "source": [
    "list_a = [[1,1], [3,3], [2,2]]\n",
    "b = [0,1]\n",
    "import math"
   ]
  },
  {
   "cell_type": "code",
   "execution_count": 46,
   "metadata": {},
   "outputs": [],
   "source": [
    "list_a.sort(key=lambda a: math.hypot(b[0]-a[0], b[1]-a[1]))\n"
   ]
  },
  {
   "cell_type": "code",
   "execution_count": 47,
   "metadata": {},
   "outputs": [
    {
     "data": {
      "text/plain": [
       "[[1, 1], [2, 2], [3, 3]]"
      ]
     },
     "execution_count": 47,
     "metadata": {},
     "output_type": "execute_result"
    }
   ],
   "source": [
    "list_a"
   ]
  }
 ],
 "metadata": {
  "kernelspec": {
   "display_name": "Python 2",
   "language": "python",
   "name": "python2"
  },
  "language_info": {
   "codemirror_mode": {
    "name": "ipython",
    "version": 2
   },
   "file_extension": ".py",
   "mimetype": "text/x-python",
   "name": "python",
   "nbconvert_exporter": "python",
   "pygments_lexer": "ipython2",
   "version": "2.7.18"
  }
 },
 "nbformat": 4,
 "nbformat_minor": 2
}
