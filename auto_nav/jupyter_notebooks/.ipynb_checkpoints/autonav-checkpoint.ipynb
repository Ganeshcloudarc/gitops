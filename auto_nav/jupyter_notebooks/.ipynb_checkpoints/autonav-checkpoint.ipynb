{
 "cells": [
  {
   "cell_type": "code",
   "execution_count": null,
   "metadata": {},
   "outputs": [],
   "source": [
    "import numpy as np\n",
    "import matplotlib.pyplot as plt\n",
    "import math\n",
    "# plt.style.use('_mpl-gallery "
   ]
  },
  {
   "cell_type": "code",
   "execution_count": null,
   "metadata": {},
   "outputs": [],
   "source": [
    "lenght = 5\n",
    "width = 3\n",
    "minimun_turning_radius = 3\n",
    "\n"
   ]
  },
  {
   "cell_type": "code",
   "execution_count": null,
   "metadata": {},
   "outputs": [],
   "source": [
    "bboxes = np.array([[-(lenght/2), width],[lenght/2, width]])\n",
    "bboxes"
   ]
  },
  {
   "cell_type": "code",
   "execution_count": null,
   "metadata": {},
   "outputs": [],
   "source": [
    "# bboxes[:,1]\n",
    "bboxes[0]- bboxes[1]"
   ]
  },
  {
   "cell_type": "code",
   "execution_count": null,
   "metadata": {},
   "outputs": [],
   "source": [
    "robot_pose = np.array([0,0,np.pi/2])\n",
    "print(robot_pose)"
   ]
  },
  {
   "cell_type": "code",
   "execution_count": null,
   "metadata": {},
   "outputs": [],
   "source": [
    "# \n",
    "plt.scatter(bboxes[:,0], bboxes[:,1])#, s=sizes, c=colors, vmin=0, vmax=100)\n",
    "plt.scatter(robot_pose[0], robot_pose[1])\n",
    "\n",
    "plt.arrow(x=robot_pose[0], y=robot_pose[1], dx=0, dy=1, head_width = 0.5, \n",
    "         head_length = 0.2)\n",
    "         \n",
    "\n",
    "plt.show()"
   ]
  },
  {
   "cell_type": "code",
   "execution_count": null,
   "metadata": {},
   "outputs": [],
   "source": [
    "# Unit vector\n",
    "v = bboxes[0]- bboxes[1]\n",
    "print(v)\n",
    "v_hat = v / np.linalg.norm(v)\n",
    "v_hat"
   ]
  },
  {
   "cell_type": "code",
   "execution_count": null,
   "metadata": {},
   "outputs": [],
   "source": [
    "angle = math.atan2(v_hat[1],v_hat[0])\n",
    "math.degrees(angle)"
   ]
  },
  {
   "cell_type": "code",
   "execution_count": null,
   "metadata": {},
   "outputs": [],
   "source": [
    "# counter clock wise normal vector is\n",
    "# https://mathworld.wolfram.com/PerpendicularVector.html\n",
    "# (ax,ay )\n",
    "# norm = (-ay, ax) - clock wise\n",
    "# norm = (ay,-ax) - counter clock wise\n",
    "v_hat_norm =  np.dot(np.array([[0,-1],[1,0]]),v_hat.T)\n",
    "v_hat_norm\n",
    "\n",
    "# anti clock wise direction\n",
    "# (dy, -dx)."
   ]
  },
  {
   "cell_type": "code",
   "execution_count": null,
   "metadata": {},
   "outputs": [],
   "source": [
    "v_hat_norm_anti_clock  = np.array([v_hat[1], -v_hat[0]])\n",
    "v_hat_norm_anti_clock"
   ]
  },
  {
   "cell_type": "code",
   "execution_count": null,
   "metadata": {},
   "outputs": [],
   "source": [
    "bboxes[0] + v_hat_norm_anti_clock"
   ]
  },
  {
   "cell_type": "code",
   "execution_count": null,
   "metadata": {},
   "outputs": [],
   "source": [
    "pred_bboxes_left = []\n",
    "pred_bboxes_right = []\n",
    "\n",
    "pred_bboxes_left.append(bboxes[0])\n",
    "pred_bboxes_right.append(bboxes[1])\n",
    "for _ in range(10):\n",
    "    pred_bboxes_left.append(pred_bboxes_left[-1]+v_hat_norm_anti_clock*width)\n",
    "    pred_bboxes_right.append(pred_bboxes_right[-1]+ v_hat_norm_anti_clock*width)\n",
    "print(pred_bboxes_left)\n",
    "pred_bboxes_left = np.array(pred_bboxes_left)\n",
    "pred_bboxes_right = np.array(pred_bboxes_left)"
   ]
  },
  {
   "cell_type": "code",
   "execution_count": null,
   "metadata": {},
   "outputs": [],
   "source": [
    "## multiple rows\n",
    "# Predicted bounding boxes code.\n",
    "\n",
    "pred_bboxes_left = []\n",
    "pred_bboxes_right = []\n",
    "pred_bboxes_left_row = []\n",
    "pred_bboxes_right_row = []\n",
    "\n",
    "\n",
    "pred_bboxes_left.append(bboxes[0])\n",
    "pred_bboxes_right.append(bboxes[1])\n",
    "pred_bboxes_left_row.append(bboxes[0])\n",
    "pred_bboxes_right_row.append(bboxes[1])\n",
    "for _ in range(10):\n",
    "    pred_bboxes_left.append(pred_bboxes_left[-1]+v_hat_norm_anti_clock*width)\n",
    "    pred_bboxes_right.append(pred_bboxes_right[-1]+ v_hat_norm_anti_clock*width)\n",
    "    pred_bboxes_left_row.append(pred_bboxes_left[-1])\n",
    "    pred_bboxes_right_row.append(pred_bboxes_right[-1])\n",
    "    for _ in range(10):\n",
    "        pred_bboxes_left_row.append(pred_bboxes_left_row[-1]+ v_hat*lenght)\n",
    "        pred_bboxes_right_row.append(pred_bboxes_right_row[-1]-v_hat*lenght)\n",
    "print(pred_bboxes_left)\n",
    "# pred_bboxes_left = np.array(pred_bboxes_left)\n",
    "# pred_bboxes_right = np.array(pred_bboxes_right)\n",
    "# pred_bboxes_left_row = np.array(pred_bboxes_left_row)\n",
    "# pred_bboxes_right_row = np.array(pred_bboxes_right_row)\n",
    "\n",
    "# for i in range(10):\n",
    "#     if i ==0:\n",
    "#         pred_bboxes_left_row.append(pred_bboxes_left_row[]+v_hat_norm_anti_clock*width)\n",
    "#     pred_bboxes_left_row.append(pred_bboxes_left_row[-1]+v_hat_norm_anti_clock*width)\n",
    "        \n",
    "        \n",
    "#     pred_bboxes_left_row.append()\n",
    "\n",
    "\n",
    "# for i in range(len(pred_bboxes_left_row)):\n",
    "    \n",
    "    \n",
    "    \n",
    "        \n",
    "    \n",
    "pred_bboxes_left = np.array(pred_bboxes_left)\n",
    "pred_bboxes_right = np.array(pred_bboxes_right)\n",
    "pred_bboxes_left_row = np.array(pred_bboxes_left_row)\n",
    "pred_bboxes_right_row = np.array(pred_bboxes_right_row)\n",
    "\n",
    "    "
   ]
  },
  {
   "cell_type": "code",
   "execution_count": null,
   "metadata": {},
   "outputs": [],
   "source": [
    "# \n",
    "%matplotlib inline\n",
    "# %matplotlib notebook\n",
    "plt.figure(figsize=(20,5))\n",
    "\n",
    "plt.scatter(bboxes[:,0], bboxes[:,1])#, s=sizes, c=colors, vmin=0, vmax=100)\n",
    "\n",
    "\n",
    "plt.scatter(pred_bboxes_left[1:,0], pred_bboxes_left[1:,1])\n",
    "plt.scatter(pred_bboxes_right[1:,0], pred_bboxes_right[1:,1])\n",
    "plt.scatter(pred_bboxes_left_row[1:,0], pred_bboxes_left_row[1:,1])\n",
    "plt.scatter(pred_bboxes_right_row[1:,0], pred_bboxes_right_row[1:,1])\n",
    "\n",
    "\n",
    "\n",
    "plt.scatter(robot_pose[0], robot_pose[1])\n",
    "\n",
    "plt.arrow(x=robot_pose[0], y=robot_pose[1], dx=0, dy=1, head_width = 0.5, \n",
    "         head_length = 0.2)\n",
    "         \n",
    "plt.grid(color = 'black', linestyle = '--', linewidth = 0.5)\n",
    "\n",
    "plt.show()"
   ]
  },
  {
   "cell_type": "code",
   "execution_count": null,
   "metadata": {},
   "outputs": [],
   "source": [
    "points = np.array([[0,0],[0,1],[0,2],[1,3],[-1,3]])\n"
   ]
  },
  {
   "cell_type": "code",
   "execution_count": null,
   "metadata": {},
   "outputs": [],
   "source": [
    "v_close = points[1] - points[0]\n",
    "print(v_close)\n",
    "vect_list = []\n",
    "for i in range(len(points)-1):\n",
    "    v = np.array([points[i+1][0] - v_close[0] , points[i+1][1] - v_close[1]])\n",
    "    print(\"V\", v)\n",
    "    vect_list.append(v)"
   ]
  },
  {
   "cell_type": "code",
   "execution_count": null,
   "metadata": {},
   "outputs": [],
   "source": [
    "def GetAngle(v1,v2):\n",
    "    return math.atan2(np.cross(v1,v2), np.dot(v1,v2));"
   ]
  },
  {
   "cell_type": "code",
   "execution_count": null,
   "metadata": {},
   "outputs": [],
   "source": [
    "vect_list"
   ]
  },
  {
   "cell_type": "code",
   "execution_count": null,
   "metadata": {},
   "outputs": [],
   "source": [
    "for i in range(1,len(vect_list)):\n",
    "    angle = GetAngle(v_close,vect_list[i])\n",
    "#     print(\"v_close\", v_close)\n",
    "#     print(\"vect_list[i]\", vect_list[i])\n",
    "    print(\"angle\", angle)"
   ]
  },
  {
   "cell_type": "code",
   "execution_count": null,
   "metadata": {},
   "outputs": [],
   "source": [
    "print(\"v_close\", vect_list)"
   ]
  },
  {
   "cell_type": "code",
   "execution_count": null,
   "metadata": {},
   "outputs": [],
   "source": [
    "# Tree pair detection"
   ]
  },
  {
   "cell_type": "code",
   "execution_count": null,
   "metadata": {},
   "outputs": [],
   "source": [
    "robot_pose = np.array([0,0,np.pi/2])\n",
    "print(robot_pose)"
   ]
  },
  {
   "cell_type": "code",
   "execution_count": null,
   "metadata": {},
   "outputs": [],
   "source": [
    "bboxes = np.array([[-(lenght/2), width],[lenght/2, width]])\n",
    "bboxes"
   ]
  },
  {
   "cell_type": "code",
   "execution_count": null,
   "metadata": {},
   "outputs": [],
   "source": [
    "math.degrees(GetAngle(v_to_right,v_to_left))"
   ]
  },
  {
   "cell_type": "code",
   "execution_count": null,
   "metadata": {},
   "outputs": [],
   "source": [
    "# computes center's locations \n",
    "def compute_tree_centers(tree_pair, size= 8):\n",
    "    np.zeros(\"\")"
   ]
  },
  {
   "cell_type": "code",
   "execution_count": null,
   "metadata": {},
   "outputs": [],
   "source": []
  },
  {
   "cell_type": "code",
   "execution_count": 1,
   "metadata": {},
   "outputs": [
    {
     "data": {
      "text/plain": [
       "[1, 2, 3]"
      ]
     },
     "execution_count": 1,
     "metadata": {},
     "output_type": "execute_result"
    }
   ],
   "source": [
    "a = [1,2,3,4]\n",
    "b = a\n",
    "b.pop()\n",
    "a"
   ]
  },
  {
   "cell_type": "code",
   "execution_count": 2,
   "metadata": {},
   "outputs": [
    {
     "data": {
      "text/plain": [
       "[1, 2, 3]"
      ]
     },
     "execution_count": 2,
     "metadata": {},
     "output_type": "execute_result"
    }
   ],
   "source": [
    "b"
   ]
  },
  {
   "cell_type": "code",
   "execution_count": null,
   "metadata": {},
   "outputs": [],
   "source": []
  },
  {
   "cell_type": "code",
   "execution_count": null,
   "metadata": {},
   "outputs": [],
   "source": []
  },
  {
   "cell_type": "code",
   "execution_count": null,
   "metadata": {},
   "outputs": [],
   "source": []
  },
  {
   "cell_type": "code",
   "execution_count": null,
   "metadata": {},
   "outputs": [],
   "source": []
  },
  {
   "cell_type": "code",
   "execution_count": null,
   "metadata": {},
   "outputs": [],
   "source": []
  },
  {
   "cell_type": "code",
   "execution_count": null,
   "metadata": {},
   "outputs": [],
   "source": []
  },
  {
   "cell_type": "code",
   "execution_count": null,
   "metadata": {},
   "outputs": [],
   "source": []
  },
  {
   "cell_type": "code",
   "execution_count": null,
   "metadata": {},
   "outputs": [],
   "source": []
  }
 ],
 "metadata": {
  "kernelspec": {
   "display_name": "Python 2",
   "language": "python",
   "name": "python2"
  },
  "language_info": {
   "codemirror_mode": {
    "name": "ipython",
    "version": 2
   },
   "file_extension": ".py",
   "mimetype": "text/x-python",
   "name": "python",
   "nbconvert_exporter": "python",
   "pygments_lexer": "ipython2",
   "version": "2.7.18"
  }
 },
 "nbformat": 4,
 "nbformat_minor": 2
}
