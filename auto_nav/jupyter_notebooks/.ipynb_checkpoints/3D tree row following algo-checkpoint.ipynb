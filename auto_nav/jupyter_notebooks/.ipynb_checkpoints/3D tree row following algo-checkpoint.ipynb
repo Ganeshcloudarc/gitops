{
 "cells": [
  {
   "cell_type": "code",
   "execution_count": 102,
   "metadata": {},
   "outputs": [],
   "source": [
    "#imports\n",
    "import random\n",
    "import matplotlib.pyplot as plt\n",
    "import numpy as np\n",
    "import math"
   ]
  },
  {
   "cell_type": "code",
   "execution_count": null,
   "metadata": {},
   "outputs": [],
   "source": [
    "inliersTolerance = 2\n",
    "inliersCount = 20\n",
    "inliers = [(i + random.random()*inliersTolerance, \n",
    "            2*(i + random.random()*inliersTolerance))\n",
    "           for i in range(0, inliersCount)]\n",
    "\n",
    "outliersCount = 20\n",
    "outliers = [(random.random()*outliersCount, \n",
    "             2*(random.random()*outliersCount))\n",
    "            for i in range(0, outliersCount)]"
   ]
  },
  {
   "cell_type": "code",
   "execution_count": 63,
   "metadata": {},
   "outputs": [],
   "source": [
    "inliersCount = 30\n",
    "inliersTolerance= 2\n",
    "\n",
    "\n",
    "left_points = [(i + random.random()*inliersTolerance, \n",
    "            2 + random.random()*inliersTolerance)\n",
    "           for i in range(0, inliersCount)]\n",
    "\n",
    "right_points = [(i + random.random()*inliersTolerance, \n",
    "            10*1 + random.random()*inliersTolerance)\n",
    "           for i in range(0, inliersCount)]\n",
    "all_points = left_points+ right_points"
   ]
  },
  {
   "cell_type": "code",
   "execution_count": 64,
   "metadata": {},
   "outputs": [
    {
     "data": {
      "image/png": "[encoded data removed]",
      "text/plain": [
       "<Figure size 432x288 with 1 Axes>"
      ]
     },
     "metadata": {
      "needs_background": "light"
     },
     "output_type": "display_data"
    }
   ],
   "source": [
    "for point in all_points:\n",
    "    plt.scatter(point[0], point[1], color=\"blue\")\n",
    "plt.title('Line Fitted through points in 2D using Ransac')\n",
    "plt.show()\n",
    "\n",
    "# print(\"inliers count = {0}\".format(max_inliers))\n"
   ]
  },
  {
   "cell_type": "code",
   "execution_count": null,
   "metadata": {},
   "outputs": [],
   "source": [
    "# Line fitting algo\n",
    "input : Q k\n",
    "output : L l and L r\n",
    "begin\n",
    "for a certain number of iterations do\n",
    "From Q k , randomly select a set of points on the left\n",
    "side, L k , and a set of points on the right side, R k ,\n",
    "where |L k |, |R k | ≥ 1 and |L k | + |R k | ≥ 3, compute\n",
    "L l and L r based on (7);\n",
    "Compute the distance from each point in Q k to L l\n",
    "and L r , select a set of inliers from Q k on the left\n",
    "and right sides, respectively, replace L k and R k with\n",
    "the selected inlier sets;\n",
    "if |L k | and |R k | are both larger than a threshold then\n",
    "Compute a k , b l , and b r again using L k and R k\n",
    "based on (7), then, compute the squared distance\n",
    "(SD) from each point in L k to L l , and from each\n",
    "point in R k to L r ;\n",
    "if the mean SD is smaller than a threshold then\n",
    "Break;\n",
    "end\n",
    "end\n",
    "end\n",
    "Return L l and L r with the minimum mean SD found.\n",
    "end"
   ]
  },
  {
   "cell_type": "code",
   "execution_count": null,
   "metadata": {},
   "outputs": [],
   "source": [
    "A[a,b_l,b_r].T = b\n",
    "A = matrix\n"
   ]
  },
  {
   "cell_type": "code",
   "execution_count": 168,
   "metadata": {},
   "outputs": [
    {
     "name": "stdout",
     "output_type": "stream",
     "text": [
      "('lr_all_points', array([[12.4228066 , 10.5023084 ],\n",
      "       [14.85727637, 11.30179691],\n",
      "       [ 5.18422243, 10.10701931],\n",
      "       [25.94187217, 10.64523267],\n",
      "       [18.69606642, 10.93989945],\n",
      "       [29.26257713, 10.55536413],\n",
      "       [27.86616057, 11.37564701],\n",
      "       [21.99534336, 10.00094406],\n",
      "       [13.92765547, 11.46285276],\n",
      "       [ 7.0383558 , 10.67437541],\n",
      "       [13.29134002,  3.26069333],\n",
      "       [23.58105968,  2.73910011],\n",
      "       [15.69786924,  3.51425029],\n",
      "       [ 7.92835056,  3.63578817],\n",
      "       [11.75579594,  2.52434638],\n",
      "       [25.33167171,  3.81388288],\n",
      "       [11.42292828,  3.15219873],\n",
      "       [22.17723252,  3.41327593],\n",
      "       [13.56842347,  3.91733089],\n",
      "       [18.98870447,  3.97572687]]))\n",
      "('sum_r_y', 107.56544011292608)\n",
      "('sum_lr_x_sqre', 58209.017196245186)\n",
      "('A', array([[1.63743376e+02, 1.00000000e+01, 0.00000000e+00],\n",
      "       [1.77192336e+02, 0.00000000e+00, 1.00000000e+01],\n",
      "       [5.82090172e+04, 1.63743376e+02, 1.77192336e+02]]))\n",
      "('sum_lr_xy_mul', 2470.6570346455132)\n",
      "('b', array([  33.94659358,  107.56544011, 2470.65703465]))\n",
      "('coffs', array([[5.55852983e+03, 1.07565440e+03, 0.00000000e+00],\n",
      "       [6.01507623e+03, 0.00000000e+00, 2.47065703e+04],\n",
      "       [1.97599785e+06, 1.76131283e+04, 4.37781492e+05]]))\n"
     ]
    },
    {
     "data": {
      "image/png": "[encoded data removed]",
      "text/plain": [
       "<Figure size 432x288 with 1 Axes>"
      ]
     },
     "metadata": {
      "needs_background": "light"
     },
     "output_type": "display_data"
    }
   ],
   "source": [
    "# algo starts\n",
    "for _ in range(0,1):\n",
    "    lk = ganerate_random_sets_points(len(left_points), 10)\n",
    "    rk = ganerate_random_sets_points(len(right_points), 10)\n",
    "    \n",
    "    lk_points = np.array([left_points[i] for i in lk])\n",
    "    rk_points = np.array([right_points[i] for i in rk])\n",
    "    for point in rk_points:\n",
    "        plt.scatter(point[0], point[1], color=\"red\")\n",
    "    for point in lk_points:\n",
    "        plt.scatter(point[0], point[1], color=\"blue\")\n",
    "    lr_all_points = np.concatenate((rk_points, lk_points), axis=0)\n",
    "    print(\"lr_all_points\",lr_all_points)\n",
    "        \n",
    "    sum_l_x = lk_points[:,0].sum()\n",
    "    sum_l_y = lk_points[:,1].sum()\n",
    "    sum_r_x = rk_points[:,0].sum()\n",
    "    sum_r_y = rk_points[:,1].sum()\n",
    "    print(\"sum_r_y\", sum_r_y)\n",
    "    sum_lr_x_sqre = (sum_l_x*sum_l_x).sum() + (sum_r_x*sum_r_x).sum()\n",
    "    print(\"sum_lr_x_sqre\", sum_lr_x_sqre)\n",
    "    \n",
    "    A = np.array([\n",
    "            [sum_l_x, len(lk_points), 0],\n",
    "            [sum_r_x, 0, len(rk_points)],\n",
    "            [sum_lr_x_sqre,sum_l_x, sum_r_x]\n",
    "        \n",
    "            ])\n",
    "    print(\"A\",A)\n",
    "    \n",
    "    sum_lr_xy_mul = (lr_all_points[:,0]*lr_all_points[:,1]).sum()\n",
    "    print(\"sum_lr_xy_mul\",sum_lr_xy_mul)\n",
    "    \n",
    "    b = np.array([sum_l_y,sum_r_y,sum_lr_xy_mul])\n",
    "    print(\"b\",b.T)\n",
    "    \n",
    "    coffs = A*b.T\n",
    "    print(\"coffs\",coffs)\n",
    "    \n",
    "    \n",
    "    \n",
    "    \n",
    "    \n",
    "    \n",
    "    \n",
    "    \n",
    "    \n",
    "    \n",
    "    \n",
    "    \n",
    "plt.show()    \n",
    "    "
   ]
  },
  {
   "cell_type": "code",
   "execution_count": 115,
   "metadata": {},
   "outputs": [
    {
     "data": {
      "text/plain": [
       "[8, 2, 19, 5, 13, 14, 10, 0, 17, 1]"
      ]
     },
     "execution_count": 115,
     "metadata": {},
     "output_type": "execute_result"
    }
   ],
   "source": [
    "def ganerate_random_sets_points(len_of_points, number_of_sets = 10):\n",
    "    rand_indexs = []\n",
    "    while len(rand_indexs) < number_of_sets:\n",
    "        ind = random.randint(0,len_of_points-1)\n",
    "        if ind not in rand_indexs:\n",
    "            rand_indexs.append(ind)\n",
    "    return rand_indexs\n",
    "ganerate_random_sets_points(21,10)      "
   ]
  },
  {
   "cell_type": "code",
   "execution_count": 116,
   "metadata": {},
   "outputs": [
    {
     "data": {
      "image/png": "[encoded data removed]",
      "text/plain": [
       "<Figure size 432x288 with 1 Axes>"
      ]
     },
     "metadata": {
      "needs_background": "light"
     },
     "output_type": "display_data"
    }
   ],
   "source": [
    "for point in rk_points+lk_points:\n",
    "    plt.scatter(point[0], point[1], color=\"blue\")\n",
    "plt.title('Line Fitted through points in 2D using Ransac')\n",
    "plt.show()"
   ]
  },
  {
   "cell_type": "code",
   "execution_count": 129,
   "metadata": {},
   "outputs": [
    {
     "data": {
      "text/plain": [
       "array([2.75987446, 3.0233299 , 3.15119971, 2.41430268, 2.1638577 ,\n",
       "       2.39829042, 2.60052568, 3.81388288, 2.23985183, 3.97572687])"
      ]
     },
     "execution_count": 129,
     "metadata": {},
     "output_type": "execute_result"
    }
   ],
   "source": [
    "lk_points[:,1]"
   ]
  },
  {
   "cell_type": "code",
   "execution_count": 136,
   "metadata": {},
   "outputs": [
    {
     "data": {
      "text/plain": [
       "array([ 7.0923215 ,  9.00185638, 24.36406296, 13.56842347, 15.69786924,\n",
       "        2.62926369,  3.29264279, 13.29134002, 14.76078361,  8.66249424])"
      ]
     },
     "execution_count": 136,
     "metadata": {},
     "output_type": "execute_result"
    }
   ],
   "source": [
    "lk_points[:,0]"
   ]
  },
  {
   "cell_type": "code",
   "execution_count": 139,
   "metadata": {},
   "outputs": [
    {
     "data": {
      "text/plain": [
       "1642.8010031816336"
      ]
     },
     "execution_count": 139,
     "metadata": {},
     "output_type": "execute_result"
    }
   ],
   "source": [
    "(lk_points[:,0]*lk_points[:,0]).sum()"
   ]
  },
  {
   "cell_type": "code",
   "execution_count": 154,
   "metadata": {},
   "outputs": [
    {
     "name": "stdout",
     "output_type": "stream",
     "text": [
      "(array([[2, 3, 4],\n",
      "       [2, 3, 4]]), array([[-1,  2, 33]]), array([[ 1,  5, 37],\n",
      "       [ 1,  5, 37]]))\n"
     ]
    }
   ],
   "source": [
    "a = np.array([[2,3,4],[2,3,4]])\n",
    "b = np.array([[-1,2,33]])\n",
    "c = a+b\n",
    "print(a,b,c)"
   ]
  },
  {
   "cell_type": "code",
   "execution_count": 155,
   "metadata": {},
   "outputs": [
    {
     "data": {
      "text/plain": [
       "array([[ 2,  3,  4],\n",
       "       [ 2,  3,  4],\n",
       "       [-1,  2, 33]])"
      ]
     },
     "execution_count": 155,
     "metadata": {},
     "output_type": "execute_result"
    }
   ],
   "source": [
    "np.concatenate((a, b), axis=0)"
   ]
  },
  {
   "cell_type": "code",
   "execution_count": 169,
   "metadata": {},
   "outputs": [
    {
     "data": {
      "text/plain": [
       "array([[ 5, 12],\n",
       "       [15, 24]])"
      ]
     },
     "execution_count": 169,
     "metadata": {},
     "output_type": "execute_result"
    }
   ],
   "source": [
    "a = np.array([[1, 2], [3, 4]])\n",
    "b = np.array([[5, 6]])\n",
    "a*b"
   ]
  },
  {
   "cell_type": "code",
   "execution_count": 174,
   "metadata": {},
   "outputs": [],
   "source": [
    "a = np.array([[1, 0],\n",
    "              [0, 1]])\n",
    "b = b = np.array([4, 1])\n"
   ]
  },
  {
   "cell_type": "code",
   "execution_count": null,
   "metadata": {},
   "outputs": [],
   "source": []
  }
 ],
 "metadata": {
  "kernelspec": {
   "display_name": "Python 3 (ipykernel)",
   "language": "python",
   "name": "python3"
  },
  "language_info": {
   "codemirror_mode": {
    "name": "ipython",
    "version": 2
   },
   "file_extension": ".py",
   "mimetype": "text/x-python",
   "name": "python",
   "nbconvert_exporter": "python",
   "pygments_lexer": "ipython2",
   "version": "2.7.18"
  }
 },
 "nbformat": 4,
 "nbformat_minor": 2
}
