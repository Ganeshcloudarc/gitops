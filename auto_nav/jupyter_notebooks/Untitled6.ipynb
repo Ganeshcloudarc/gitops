{
 "cells": [
  {
   "cell_type": "code",
   "execution_count": null,
   "metadata": {},
   "outputs": [],
   "source": [
    "# manage data and fit\n",
    "import pandas as pd\n",
    "import numpy as np\n",
    "\n",
    "# scipy ODR : orthogonal distance regression\n",
    "from scipy.odr import ODR, Model, Data, RealData\n",
    "\n",
    "# style and notebook integration of the plots\n",
    "import matplotlib.pyplot as plt \n",
    "import seaborn as sns\n",
    "%matplotlib inline \n",
    "sns.set(style=\"whitegrid\")"
   ]
  },
  {
   "cell_type": "code",
   "execution_count": null,
   "metadata": {},
   "outputs": [],
   "source": [
    "# import the necessary python packages\n",
    "import numpy as np\n",
    "import matplotlib.pyplot as plt\n",
    "\n",
    "# odr function from scipy package\n",
    "# is used to perform ODR regression\n",
    "from scipy import odr\n",
    "import random as r\n",
    "\n",
    "# Create a sample feature array and a target array\n",
    "feature = np.array(np.arange(1, 11))\n",
    "# shuffle the created array\n",
    "np.random.shuffle(feature)\n",
    "# create a target array of random numbers\n",
    "target = np.array([0.65, -.75, 0.90, -0.5, 0.14,\n",
    "\t\t\t\t0.84, 0.99, -0.95, 0.41, -0.28])\n",
    "\n",
    "# Define a function (quadratic in our case)\n",
    "# to fit the data with.\n",
    "# odr initially assumes a linear function\n",
    "def target_function(p, x):\n",
    "\tm, c = p\n",
    "\treturn m*x + c\n",
    "\n",
    "# model fitting.\n",
    "odr_model = odr.Model(target_function)\n",
    "\n",
    "# Create a Data object using sample data created.\n",
    "data = odr.Data(feature, target)\n",
    "\n",
    "# Set ODR with the model and data.\n",
    "ordinal_distance_reg = odr.ODR(data, odr_model,\n",
    "\t\t\t\t\t\t\tbeta0=[0.2, 1.])\n",
    "\n",
    "# Run the regression.\n",
    "out = ordinal_distance_reg.run()\n",
    "\n",
    "# print the results\n",
    "out.pprint()\n"
   ]
  },
  {
   "cell_type": "code",
   "execution_count": null,
   "metadata": {},
   "outputs": [],
   "source": [
    "dir(ordinal_distance_reg)"
   ]
  },
  {
   "cell_type": "code",
   "execution_count": null,
   "metadata": {},
   "outputs": [],
   "source": [
    "a,b=ordinal_distance_reg.beta0\n",
    "print"
   ]
  },
  {
   "cell_type": "code",
   "execution_count": null,
   "metadata": {},
   "outputs": [],
   "source": [
    "plt.scatter(feature,target )\n",
    "y_new = target_function(odr_obj.beta0,feature )\n",
    "plt.scatter(feature, y_new)"
   ]
  },
  {
   "cell_type": "code",
   "execution_count": null,
   "metadata": {},
   "outputs": [],
   "source": [
    "odr_obj = odr.ODR(data, odr.multilinear)"
   ]
  },
  {
   "cell_type": "code",
   "execution_count": 1,
   "metadata": {},
   "outputs": [],
   "source": [
    "import numpy as np\n",
    "import scipy as scipy\n",
    "import scipy.odr as odr\n",
    "\n",
    "import matplotlib as mpl\n",
    "import matplotlib.pyplot as plt\n",
    "import seaborn as sns\n",
    "from matplotlib import rc\n",
    "\n",
    "# # set to use tex, but make sure it is sans-serif fonts only\n",
    "# rc('text', usetex=True)\n",
    "# rc('text.latex', preamble=r'\\usepackage{cmbright}')\n",
    "# rc('font', **{'family': 'sans-serif', 'sans-serif': ['Helvetica']})\n",
    "\n",
    "# # Magic function to make matplotlib inline;\n",
    "# # other style specs must come AFTER\n",
    "# %matplotlib inline\n",
    "\n",
    "# # This enables SVG graphics inline. \n",
    "# # There is a bug, so uncomment if it works.\n",
    "# %config InlineBackend.figure_formats = {'png', 'retina'}\n",
    "\n",
    "# # JB's favorite Seaborn settings for notebooks\n",
    "# rc = {'lines.linewidth': 2, \n",
    "#       'axes.labelsize': 18, \n",
    "#       'axes.titlesize': 18, \n",
    "#       'axes.facecolor': 'DFDFE5'}\n",
    "# sns.set_context('notebook', rc=rc)\n",
    "# sns.set_style(\"dark\")\n",
    "\n",
    "# mpl.rcParams['xtick.labelsize'] = 16 \n",
    "# mpl.rcParams['ytick.labelsize'] = 16 \n",
    "# mpl.rcParams['legend.fontsize'] = 14"
   ]
  },
  {
   "cell_type": "code",
   "execution_count": 2,
   "metadata": {},
   "outputs": [
    {
     "name": "stdout",
     "output_type": "stream",
     "text": [
      "[ 0.          0.71428571  1.42857143  2.14285714  2.85714286  3.57142857\n",
      "  4.28571429  5.          5.71428571  6.42857143  7.14285714  7.85714286\n",
      "  8.57142857  9.28571429 10.        ]\n",
      "[4.87306811 0.66280731 1.29159498 0.22185413 2.89776039 1.2286872\n",
      " 2.47989289 0.55576142 2.45114789 0.41054392 4.57091983 4.17964516\n",
      " 1.58914803 1.49127914 1.6228732 ]\n",
      "[ 0.4697389  -0.20986787  2.71337163  2.31612942  8.09916641  4.17235811\n",
      "  1.20224113  6.16664135  3.58083111  6.46708315  7.30722308  7.08648836\n",
      "  9.25057075  9.87991522  7.14526239]\n",
      "y [ 2.92948661 -2.74618192 10.46842492  4.13899765  8.31672687  6.76215756\n",
      " 10.8950828   9.53762514  4.93867389 11.73344743 12.35320893 15.37848074\n",
      " 15.996102   18.97420371 19.48163922]\n"
     ]
    }
   ],
   "source": [
    "n = 15\n",
    "x = np.linspace(0, 10, n)\n",
    "print(x)\n",
    "xerr = np.abs(np.random.normal(0, 2.5, n))\n",
    "print(xerr)\n",
    "x = np.random.normal(x, xerr, n)\n",
    "print(x)\n",
    "y = np.linspace(0, 20, n)\n",
    "yerr = np.abs(np.random.normal(0, 2.5, n))\n",
    "y = np.random.normal(y, yerr)\n",
    "\n",
    "print(\"y\",y)"
   ]
  },
  {
   "cell_type": "code",
   "execution_count": 4,
   "metadata": {},
   "outputs": [
    {
     "data": {
      "text/plain": [
       "<matplotlib.collections.PathCollection at 0x7f5b5cef96d0>"
      ]
     },
     "execution_count": 4,
     "metadata": {},
     "output_type": "execute_result"
    },
    {
     "data": {
      "image/png": "[encoded data removed]",
      "text/plain": [
       "<Figure size 432x288 with 1 Axes>"
      ]
     },
     "metadata": {
      "needs_background": "light"
     },
     "output_type": "display_data"
    }
   ],
   "source": [
    "plt.scatter(x,y)"
   ]
  },
  {
   "cell_type": "code",
   "execution_count": 5,
   "metadata": {},
   "outputs": [
    {
     "data": {
      "text/plain": [
       "<matplotlib.legend.Legend at 0x7f5b5ae7b5e0>"
      ]
     },
     "execution_count": 5,
     "metadata": {},
     "output_type": "execute_result"
    },
    {
     "data": {
      "image/png": "[encoded data removed]",
      "text/plain": [
       "<Figure size 432x288 with 1 Axes>"
      ]
     },
     "metadata": {
      "needs_background": "light"
     },
     "output_type": "display_data"
    }
   ],
   "source": [
    "def line(x, a):\n",
    "    \"\"\"The line of best fit.\"\"\"\n",
    "    # unpack the parameters:\n",
    "    y = a*x\n",
    "    return y\n",
    "\n",
    "popt, pcov = scipy.optimize.curve_fit(line, x, y)\n",
    "\n",
    "# unpack the parameters of the line of best fit:\n",
    "a = popt\n",
    "\n",
    "plt.errorbar(x, y, xerr, yerr, 'o')\n",
    "plt.plot(x, line(x, a), label='fit')\n",
    "plt.legend(title='Legend')"
   ]
  },
  {
   "cell_type": "code",
   "execution_count": 34,
   "metadata": {},
   "outputs": [],
   "source": [
    "\n",
    "\n",
    "def odr_line(p, x):\n",
    "    \"\"\"The line of best fit.\"\"\"\n",
    "    # unpack the parameters:\n",
    "    y = p[0]*x + p[1]\n",
    "    return y\n",
    "\n",
    "def perform_odr(x, y, xerr, yerr):\n",
    "    \"\"\"Finds the ODR for data {x, y} and returns the result\"\"\"\n",
    "    linear = odr.Model(odr_line)\n",
    "    mydata = odr.Data(x, y, wd=1./xerr, we=1./yerr)\n",
    "    myodr = odr.ODR(mydata, linear, beta0=[1.0,2.0])\n",
    "    output = myodr.run()\n",
    "\n",
    "    return output\n",
    "\n"
   ]
  },
  {
   "cell_type": "code",
   "execution_count": 35,
   "metadata": {},
   "outputs": [],
   "source": [
    "regression = perform_odr(x, y, xerr, yerr)"
   ]
  },
  {
   "cell_type": "code",
   "execution_count": 43,
   "metadata": {},
   "outputs": [
    {
     "name": "stdout",
     "output_type": "stream",
     "text": [
      "\n",
      "The true model is           y = 2.00x\n",
      "Least squares returns       y = 1.8x\n",
      "ODR returns                 y = 1x\n",
      "\n"
     ]
    },
    {
     "data": {
      "image/png": "[encoded data removed]",
      "text/plain": [
       "<Figure size 432x288 with 1 Axes>"
      ]
     },
     "metadata": {
      "needs_background": "light"
     },
     "output_type": "display_data"
    }
   ],
   "source": [
    "x = left_points[:,0]\n",
    "y = left_points[:,1]\n",
    "# plt.errorbar(x, y, xerr, yerr, 'o', alpha=0.7)\n",
    "# plt.plot(x, line(regression, a), label='least squares', lw=3, color='blue')\n",
    "plt.plot(x, line(regression.beta[0], x), label='ODR', lw=3, color='purple')\n",
    "\n",
    "# plot the true line:\n",
    "# X = np.linspace(-10, 10, 10)\n",
    "# plt.plot(X, 2*X, label='True', lw=3, ls='--')\n",
    "plt.legend(title='Legend', loc=(1, .5))\n",
    "plt.xlim(np.min(x)-1, np.max(x)+1)\n",
    "plt.ylim(np.min(y)-1, np.max(y)+1)\n",
    "# ransac_paralel_lines(left_points,right_points)\n",
    "for point in allpoints:\n",
    "    plt.scatter(point[0], point[1], color=\"green\")\n",
    "    \n",
    "from sklearn.linear_model import LinearRegression\n",
    "model = LinearRegression()\n",
    "model.fit(x[:,np.newaxis], y[:, np.newaxis])\n",
    "\n",
    "\n",
    "# Predict data of estimated models\n",
    "m = model.coef_[0][0]\n",
    "c = model.intercept_[0]\n",
    "\n",
    "plt.plot(x, odr_line([m,c], x), label='line', lw=3, color='red')\n",
    "\n",
    "\n",
    "# plt.plot(x, line(x, a), label='least squares', lw=3, color='blue')\n",
    "\n",
    "\n",
    "print(\n",
    "\"\"\"\n",
    "The true model is           y = 2.00x\n",
    "Least squares returns       y = {0:.2g}x\n",
    "ODR returns                 y = {1:.2g}x\n",
    "\"\"\".format(a[0], regression.beta[0]))\n",
    "\n"
   ]
  },
  {
   "cell_type": "code",
   "execution_count": 24,
   "metadata": {},
   "outputs": [
    {
     "data": {
      "image/png": "[encoded data removed]",
      "text/plain": [
       "<Figure size 432x288 with 1 Axes>"
      ]
     },
     "metadata": {
      "needs_background": "light"
     },
     "output_type": "display_data"
    }
   ],
   "source": [
    "import random\n",
    "inliersCount = 20\n",
    "inliersTolerance= 2\n",
    "\n",
    "left_points = [( 2*i + random.random()*inliersTolerance, \n",
    "            (3 + random.random()*inliersTolerance))\n",
    "           for i in range(0, inliersCount)]\n",
    "\n",
    "right_points = [( 10+ random.random()*inliersTolerance, \n",
    "            (2*i + random.random()*inliersTolerance))\n",
    "           for i in range(0, inliersCount)]\n",
    "allpoints = left_points+right_points\n",
    "# ransac_paralel_lines(left_points,right_points)\n",
    "for point in allpoints:\n",
    "    plt.scatter(point[0], point[1], color=\"green\")\n",
    "plt.show()\n",
    "\n"
   ]
  },
  {
   "cell_type": "code",
   "execution_count": 26,
   "metadata": {},
   "outputs": [],
   "source": [
    "regression = perform_odr(left_points[:,0], left_points[:,1], xerr, yerr)"
   ]
  },
  {
   "cell_type": "code",
   "execution_count": 25,
   "metadata": {},
   "outputs": [
    {
     "data": {
      "text/plain": [
       "array([3.31785006, 3.52622591, 4.12135315, 4.0405311 , 4.04012914,\n",
       "       4.77828666, 3.91377416, 4.01390132, 4.58881877, 4.00309077,\n",
       "       4.89470274, 3.19238599, 4.54323548, 3.4874829 , 3.09632315,\n",
       "       4.85114074, 4.79166822, 4.98385906, 4.00602541, 4.15086402])"
      ]
     },
     "execution_count": 25,
     "metadata": {},
     "output_type": "execute_result"
    }
   ],
   "source": [
    "left_points = np.array(left_points)\n",
    "\n",
    "left_points[:,1]"
   ]
  },
  {
   "cell_type": "code",
   "execution_count": null,
   "metadata": {},
   "outputs": [],
   "source": []
  },
  {
   "cell_type": "code",
   "execution_count": null,
   "metadata": {},
   "outputs": [],
   "source": []
  },
  {
   "cell_type": "code",
   "execution_count": null,
   "metadata": {},
   "outputs": [],
   "source": []
  },
  {
   "cell_type": "code",
   "execution_count": null,
   "metadata": {},
   "outputs": [],
   "source": []
  }
 ],
 "metadata": {
  "kernelspec": {
   "display_name": "Python 3 (ipykernel)",
   "language": "python",
   "name": "python3"
  },
  "language_info": {
   "codemirror_mode": {
    "name": "ipython",
    "version": 3
   },
   "file_extension": ".py",
   "mimetype": "text/x-python",
   "name": "python",
   "nbconvert_exporter": "python",
   "pygments_lexer": "ipython3",
   "version": "3.8.10"
  }
 },
 "nbformat": 4,
 "nbformat_minor": 2
}
